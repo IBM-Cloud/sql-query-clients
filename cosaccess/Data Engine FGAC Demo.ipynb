{
 "cells": [
  {
   "cell_type": "markdown",
   "metadata": {},
   "source": [
    "# Fine-Grained Access Control (FGAC) with IBM Data Engine on COS"
   ]
  },
  {
   "cell_type": "markdown",
   "metadata": {},
   "source": [
    "This notebook demonstrates the setup and usage of fine-grained access inside data lakes on IBM COS buckets. It leverages the Python package `cosacess`, which hides a good amount of complexity and inconsistency of IBM Cloud APIs and SDKs needed to conduct the setup and management of fine-grained access on IBM COS. It also reduced the user input to the minimum information required. You will not have to hassle with instance IDs, CRNs or endpoints. Just bring your COS bucket name and object prefixes. That's it.\n",
    "\n",
    "This demo also uses IBM Data Engine as a data lake service that can process and query data lakes on COS.\n",
    "\n",
    "The purpose of the `cosaccess` package this notebook demonstration is to give you a quick start for your own data lake projects on IBM COS.\n",
    "\n",
    "You can find more details and the methods provided in `cosacess` [here](https://github.com/IBM-Cloud/sql-query-clients/tree/master/cosaccess#cosaccessmanager-method-list).\n",
    "\n",
    "**Note:** There is a second variand of this same demo that works with plain `cosaccess` package without connecting it and using it through a data lake service like IBM Data Engine. If you are inteterested to see the standalone `cosaccess` demo please refer to \"[COS FGAC Demo.ipynb](https://github.com/IBM-Cloud/sql-query-clients/blob/master/cosaccess/COS%20FGAC%20Demo.ipynb)\"."
   ]
  },
  {
   "cell_type": "markdown",
   "metadata": {},
   "source": [
    "<a id=\"toc\"></a>\n",
    "## Table of contents\n",
    "1. [Library Set Up](#setup)<br>\n",
    "2. [Data Engine FGAC Helper](#demo_setup)<br>\n",
    "3. [Demo Set Up](#data_engine_helper)<br>\n",
    "    * [Set up the demo data on COS](#demo_data)<br>\n",
    "    * [SCreate the table definitions for the demo generated data](#demo_tables)<br>\n",
    "    * [Set up access groups to use for fine-grained access control](#access_groups)<br>\n",
    "    * [Set up the fine-grained COS access policies for the demo](#access_policies)<br>\n",
    "    * [Set up Service IDs with individual API Keys for each access group](#service_ids)<br>\n",
    "4. [COS Access Enforcement Demo](#access_demo)<br>\n",
    "    * [DBAs Access](#dbas_access)<br>\n",
    "    * [Portfolio Manager Access](#portfolio_manager_access)<br>\n",
    "    * [Customer Analysts Access](#customer_analysts_access)<br>\n",
    "    * [Marketing Fullfillment Access](#marketing_fullfillment_access)<br>\n",
    "5. [Demo Clean Up](#cleanup)<br>\n",
    "6. [Further Reference](#reference)<br>\n",
    "    * [IAM Helpers](#iam_helpers)<br>\n",
    "        * [Users](#user_helpers)<br>\n",
    "        * [Service IDs](#service_id_helpers)<br>\n",
    "        * [Access Groups](#access_group_helpers)<br>\n",
    "    * [COS Helpers](#cos_helpers)<br>"
   ]
  },
  {
   "cell_type": "markdown",
   "metadata": {},
   "source": [
    "## <a id=\"setup\"></a> 1. Library Set Up\n",
    "[Home](#toc)"
   ]
  },
  {
   "cell_type": "markdown",
   "metadata": {},
   "source": [
    "Install and import `cosaccess` and a few other libraries used in the demo:"
   ]
  },
  {
   "cell_type": "code",
   "execution_count": 1,
   "metadata": {
    "scrolled": true
   },
   "outputs": [],
   "source": [
    "!set -o pipefail; pip install --upgrade \"cosaccess\" | { grep -v \"already satisfied\" || :; }"
   ]
  },
  {
   "cell_type": "code",
   "execution_count": 2,
   "metadata": {},
   "outputs": [],
   "source": [
    "import os\n",
    "from cosaccess import CosAccessManager\n",
    "import getpass\n",
    "import ibm_boto3\n",
    "from ibm_botocore.client import Config, ClientError"
   ]
  },
  {
   "cell_type": "markdown",
   "metadata": {},
   "source": [
    "For all the below interaction with IBM Cloud we need an API Key associated with your account and a COS bucket where we will set up and consume the demo data. Please provide an API key with administrative privileges in your account so that we can create and configure service IDs and access groups for the demo. Please also provide a COS bucket from a COS instance in your account. **Furthermore** we need a **standard plan** instance of IBM Data Engine in your account. (Lite plan instances are not sufficient for this demo because they don't allow for table cataloging.) Please provide the instance CRN of your Data Engine instance."
   ]
  },
  {
   "cell_type": "code",
   "execution_count": 3,
   "metadata": {},
   "outputs": [
    {
     "name": "stdout",
     "output_type": "stream",
     "text": [
      "We will be using your API Key ******************************************** and your bucket fgac-lake for this demo. We will be using Data Engine instance crn:v1:bluemix:public:sql-query:us-south:a/d86af7367f70fba4f306d3c19c938f2f:cd98dc40-e7b1-40c0-9d7b-d988072c2699:: to work with the data lake data\n"
     ]
    }
   ],
   "source": [
    "try:\n",
    "    apikey = os.environ[\"FGACDEMO_APIKEY\"]\n",
    "except KeyError:\n",
    "    apikey = getpass.getpass(\"Please enter your IBM Cloud API Key (hit enter): \")\n",
    "try:\n",
    "    bucket = os.environ[\"FGACDEMO_BUCKET\"]\n",
    "except KeyError:\n",
    "    bucket = input(\"Please enter an existing COS bucket in your account to use for the demo: \")\n",
    "try:\n",
    "    dataengine_id = os.environ[\"FGACDEMO_DATAENGINE_INSTANCE\"]\n",
    "except KeyError:\n",
    "    dataengine_id = input(\"Please the instance CRN of your IBM Data Engine instance: \")\n",
    "print(\"We will be using your API Key {} and your bucket {} for this demo. We will be using Data Engine instance {} to work with the data lake data\".format(\"*\" * len(apikey), bucket, dataengine_id))"
   ]
  },
  {
   "cell_type": "markdown",
   "metadata": {},
   "source": [
    "Initialize the `cosaccess` client:"
   ]
  },
  {
   "cell_type": "code",
   "execution_count": 83,
   "metadata": {},
   "outputs": [],
   "source": [
    "cosaccess = CosAccessManager(apikey=apikey)"
   ]
  },
  {
   "cell_type": "markdown",
   "metadata": {},
   "source": [
    "Initialize the `ibmcloudsql` for Data Engine:"
   ]
  },
  {
   "cell_type": "code",
   "execution_count": 84,
   "metadata": {},
   "outputs": [],
   "source": [
    "import ibmcloudsql\n",
    "endpoint = cosaccess.get_cos_endpoint(bucket)\n",
    "region = endpoint[11:endpoint[11:].find(\".\")+11]\n",
    "default_target = \"cos://\" + region + \"/\" + bucket + \"/temp\"\n",
    "data_engine = ibmcloudsql.SQLQuery(apikey, dataengine_id, client_info='COS FGAC Demo',\n",
    "                                   target_cos_url=default_target, max_concurrent_jobs=4, max_tries=3 )    \n",
    "data_engine.logon()"
   ]
  },
  {
   "cell_type": "markdown",
   "metadata": {},
   "source": [
    "## 2. <a id=\"data_engine_helper\"></a> Data Engine FGAC Helper\n",
    "To streamline the usage of IBM Data Engine together with the `cosaccess` package we create a little helper class that abstracts the access managment methods found in `cosaccess` on a level of data lake tables defined in a table catalog (in IBM Data Engine). This helper and the demo further down uses the `ibmcloudsql` package, which is the client SQL for IBM Data Engine. So we set that package up first."
   ]
  },
  {
   "cell_type": "code",
   "execution_count": 85,
   "metadata": {},
   "outputs": [],
   "source": [
    "!set -o pipefail; pip install --upgrade \"ibmcloudsql\" | { grep -v \"already satisfied\" || :; }"
   ]
  },
  {
   "cell_type": "code",
   "execution_count": 86,
   "metadata": {},
   "outputs": [],
   "source": [
    "import pandas as pd\n",
    "class DataEngineAccessHelper:\n",
    "    def __init__(self, cosAccessManager:CosAccessManager, sqlClient:ibmcloudsql.SQLQuery):\n",
    "        self._cosaccess = cosAccessManager\n",
    "        self._sqlClient = sqlClient\n",
    "        \n",
    "    def get_policies_for_tables(self, table_names:list, roles:list = None):\n",
    "        policies = []\n",
    "        for table_name in table_names:\n",
    "            location = self._sqlClient.get_table_details(table_name)[\"location\"]\n",
    "            bucket = location.split(\"/\")[3]\n",
    "            prefix = \"/\".join(location.split(\"/\")[4:])\n",
    "            table_policies = self._cosaccess.get_policies_for_cos_bucket(cosBucket=bucket, prefix=prefix, roles=roles)\n",
    "            policies.append(table_policies)\n",
    "        return pd.concat(policies).drop_duplicates(subset=[\"policy_id\"])\n",
    "    \n",
    "    def grant_table_access(self, table_names:list, roles:list, user_name = None, user_id = None, service_id = None,\n",
    "                           service_id_name = None, access_group_name = None, access_group_id = None):\n",
    "        prefixes = []\n",
    "        for table_name in table_names:\n",
    "            location = self._sqlClient.get_table_details(table_name)[\"location\"]\n",
    "            bucket = location.split(\"/\")[3]\n",
    "            prefixes.append(\"/\".join(location.split(\"/\")[4:]))\n",
    "        cos_instance = self._cosaccess.get_cos_instance_id(bucket)\n",
    "        return self._cosaccess.grant_bucket_access(roles=roles, cos_bucket=bucket, prefixes=prefixes, user_name=user_name, user_id=user_id,\n",
    "                                                   service_id=service_id, service_id_name=service_id_name,\n",
    "                                                   access_group_name=access_group_name, access_group_id=access_group_id)"
   ]
  },
  {
   "cell_type": "code",
   "execution_count": 87,
   "metadata": {},
   "outputs": [],
   "source": [
    "data_engine_access = DataEngineAccessHelper(cosaccess, data_engine)"
   ]
  },
  {
   "cell_type": "markdown",
   "metadata": {},
   "source": [
    "## <a id=\"demo_setup\"></a> 3. Demo Set Up\n",
    "[Home](#toc)"
   ]
  },
  {
   "cell_type": "markdown",
   "metadata": {},
   "source": [
    "#### <a id=\"demo_data\"></a> Generate the demo data on COS\n",
    "First we generate some test data in parquet files. We use Data Engine for this purpose. We generate a little demo data lake that consists of three different tables\n",
    " - Table `customers` with list of customers and their contact information\n",
    " - Table `products` with list of products and their price\n",
    " - Table `sales` with the individual purchases made by customers of certain amounts of a product"
   ]
  },
  {
   "cell_type": "code",
   "execution_count": 88,
   "metadata": {},
   "outputs": [
    {
     "name": "stdout",
     "output_type": "stream",
     "text": [
      "https://dataengine.cloud.ibm.com/sqlquery/?instance_crn=crn:v1:bluemix:public:sql-query:us-south:a/d86af7367f70fba4f306d3c19c938f2f:cd98dc40-e7b1-40c0-9d7b-d988072c2699::\n"
     ]
    }
   ],
   "source": [
    "# The following link allows you to open the Cloud console for your Data Engine instance \"\\\n",
    "# in case you want to observe the generate SQL jobs.\")\n",
    "x=data_engine.sql_ui_link()"
   ]
  },
  {
   "cell_type": "code",
   "execution_count": 89,
   "metadata": {},
   "outputs": [],
   "source": [
    "datamarturl = \"cos://\" + region + \"/\" + bucket + \"/data_mart/\""
   ]
  },
  {
   "cell_type": "code",
   "execution_count": 90,
   "metadata": {},
   "outputs": [],
   "source": [
    "sql='select col1 as product_id, col2 as product_name, col3 as price from \\\n",
    "                (values (1, \"Towel\", 8.99), \\\n",
    "                        (2, \"Soap\", 2.79), \\\n",
    "                        (3, \"Washrag\", 1.99)) \\\n",
    "    INTO {}products/data.parquet JOBPREFIX NONE STORED AS PARQUET'.format(datamarturl)\n",
    "jobId = data_engine.submit_sql(sql)\n",
    "data_engine.wait_for_job(jobId)\n",
    "data_engine.rename_exact_result(jobId)\n",
    "\n",
    "sql='select col1 as customer_id, col2 as customer_name, col3 as address, col4 as email from \\\n",
    "                (values (1, \"Daniel\", \"1 Duck Street, 00815 Entenhausen\", \"daniel@entenhausen.de\"),\\\n",
    "                        (2, \"Torsten\", \"742 Evergreen Terrace, 80085 Springfield\", \"torsten@simpsons.de\")) \\\n",
    "    INTO {}customers/data.parquet JOBPREFIX NONE STORED AS PARQUET'.format(datamarturl)\n",
    "jobId = data_engine.submit_sql(sql)\n",
    "data_engine.wait_for_job(jobId)\n",
    "data_engine.rename_exact_result(jobId)\n",
    "\n",
    "sql='select col1 as sales_id, col2 as sales_time, col3 as customer_id, col4 as product_id, col5 as amount from \\\n",
    "                (values (1, timestamp(\"2023-11-16T09:24:45.652Z\"),  1, 1, 4), \\\n",
    "                        (2, timestamp(\"2023-11-16T09:24:45.652Z\"),  1, 2, 1), \\\n",
    "                        (3, timestamp(\"2023-10-16T14:21:00.000Z\"),  2, 3, 3)) \\\n",
    "    INTO {}sales/data.parquet JOBPREFIX NONE STORED AS PARQUET'.format(datamarturl)\n",
    "jobId = data_engine.submit_sql(sql)\n",
    "data_engine.wait_for_job(jobId)\n",
    "data_engine.rename_exact_result(jobId)"
   ]
  },
  {
   "cell_type": "markdown",
   "metadata": {},
   "source": [
    "Show the just generated parquet data files on COS:"
   ]
  },
  {
   "cell_type": "code",
   "execution_count": 91,
   "metadata": {},
   "outputs": [
    {
     "data": {
      "text/html": [
       "<div>\n",
       "<style scoped>\n",
       "    .dataframe tbody tr th:only-of-type {\n",
       "        vertical-align: middle;\n",
       "    }\n",
       "\n",
       "    .dataframe tbody tr th {\n",
       "        vertical-align: top;\n",
       "    }\n",
       "\n",
       "    .dataframe thead th {\n",
       "        text-align: right;\n",
       "    }\n",
       "</style>\n",
       "<table border=\"1\" class=\"dataframe\">\n",
       "  <thead>\n",
       "    <tr style=\"text-align: right;\">\n",
       "      <th></th>\n",
       "      <th>name</th>\n",
       "      <th>last_modified</th>\n",
       "      <th>owner</th>\n",
       "      <th>size</th>\n",
       "    </tr>\n",
       "  </thead>\n",
       "  <tbody>\n",
       "    <tr>\n",
       "      <th>0</th>\n",
       "      <td>data_mart/customers/data.parquet</td>\n",
       "      <td>2023-11-24 16:54:41.008000+00:00</td>\n",
       "      <td>{'DisplayName': '0ca7988d-6cb0-4ccf-85e3-9d7af75d5e0d', 'ID': '0ca7988d-6cb0-4ccf-85e3-9d7af75d5e0d'}</td>\n",
       "      <td>1602</td>\n",
       "    </tr>\n",
       "    <tr>\n",
       "      <th>1</th>\n",
       "      <td>data_mart/products/data.parquet</td>\n",
       "      <td>2023-11-24 16:54:32.781000+00:00</td>\n",
       "      <td>{'DisplayName': '0ca7988d-6cb0-4ccf-85e3-9d7af75d5e0d', 'ID': '0ca7988d-6cb0-4ccf-85e3-9d7af75d5e0d'}</td>\n",
       "      <td>1083</td>\n",
       "    </tr>\n",
       "    <tr>\n",
       "      <th>2</th>\n",
       "      <td>data_mart/sales/data.parquet</td>\n",
       "      <td>2023-11-24 16:54:48.543000+00:00</td>\n",
       "      <td>{'DisplayName': '0ca7988d-6cb0-4ccf-85e3-9d7af75d5e0d', 'ID': '0ca7988d-6cb0-4ccf-85e3-9d7af75d5e0d'}</td>\n",
       "      <td>1579</td>\n",
       "    </tr>\n",
       "  </tbody>\n",
       "</table>\n",
       "</div>"
      ],
      "text/plain": [
       "                               name                    last_modified  \\\n",
       "0  data_mart/customers/data.parquet 2023-11-24 16:54:41.008000+00:00   \n",
       "1   data_mart/products/data.parquet 2023-11-24 16:54:32.781000+00:00   \n",
       "2      data_mart/sales/data.parquet 2023-11-24 16:54:48.543000+00:00   \n",
       "\n",
       "                                                                                                   owner  \\\n",
       "0  {'DisplayName': '0ca7988d-6cb0-4ccf-85e3-9d7af75d5e0d', 'ID': '0ca7988d-6cb0-4ccf-85e3-9d7af75d5e0d'}   \n",
       "1  {'DisplayName': '0ca7988d-6cb0-4ccf-85e3-9d7af75d5e0d', 'ID': '0ca7988d-6cb0-4ccf-85e3-9d7af75d5e0d'}   \n",
       "2  {'DisplayName': '0ca7988d-6cb0-4ccf-85e3-9d7af75d5e0d', 'ID': '0ca7988d-6cb0-4ccf-85e3-9d7af75d5e0d'}   \n",
       "\n",
       "   size  \n",
       "0  1602  \n",
       "1  1083  \n",
       "2  1579  "
      ]
     },
     "execution_count": 91,
     "metadata": {},
     "output_type": "execute_result"
    }
   ],
   "source": [
    "cosaccess.get_cos_objects(bucket, prefix=\"data_mart\")"
   ]
  },
  {
   "cell_type": "markdown",
   "metadata": {},
   "source": [
    "#### <a id=\"demo_tables\"></a> Create the table definitions for the demo generated data\n",
    "We use Data Engine to create tables. This is very straight forward since Data Engine will automatically infer all the needed information (such as table columns and types) from the parquet data on COS."
   ]
  },
  {
   "cell_type": "code",
   "execution_count": 92,
   "metadata": {},
   "outputs": [],
   "source": [
    "data_engine.create_table(\"products\", cos_url=datamarturl+\"products/\", format_type=\"parquet\", force_recreate=True)\n",
    "data_engine.create_table(\"customers\", cos_url=datamarturl+\"customers/\", format_type=\"parquet\", force_recreate=True)\n",
    "data_engine.create_table(\"sales\", cos_url=datamarturl+\"sales/\", format_type=\"parquet\", force_recreate=True)"
   ]
  },
  {
   "cell_type": "markdown",
   "metadata": {},
   "source": [
    "As an example we take a look at the infered table definiton for on of our tables:"
   ]
  },
  {
   "cell_type": "code",
   "execution_count": 93,
   "metadata": {},
   "outputs": [
    {
     "data": {
      "text/plain": [
       "{'name': 'sales',\n",
       " 'type': 'TABLE',\n",
       " 'creation_time': '2023-11-24T16:59:46.000Z',\n",
       " 'data_format': 'parquet',\n",
       " 'location': 'cos://us-south/fgac-lake/data_mart/sales',\n",
       " 'partitioning_columns': [],\n",
       " 'viewStatement': None,\n",
       " 'columns': [{'name': 'sales_id', 'type': 'integer', 'nullable': True},\n",
       "  {'name': 'sales_time', 'type': 'timestamp', 'nullable': True},\n",
       "  {'name': 'customer_id', 'type': 'integer', 'nullable': True},\n",
       "  {'name': 'product_id', 'type': 'integer', 'nullable': True},\n",
       "  {'name': 'amount', 'type': 'integer', 'nullable': True}]}"
      ]
     },
     "execution_count": 93,
     "metadata": {},
     "output_type": "execute_result"
    }
   ],
   "source": [
    "data_engine.get_table_details(\"sales\")"
   ]
  },
  {
   "cell_type": "markdown",
   "metadata": {},
   "source": [
    "#### <a id=\"access_groups\"></a> Set up access groups to use for fine-grained access control\n",
    "We create four access groups to use for four different personas:\n",
    " - Customer Analysts that analyze the sales transactions to generate a customer ranking.\n",
    " - Portfolio Managers that create and manage the list of products\n",
    " - Marketing Fullfillment that sends out customer nurture\n",
    " - DBAs that are responsible for the data lake content as a whole\n",
    "\n",
    "After creating these four groups we list them right away for your information:"
   ]
  },
  {
   "cell_type": "code",
   "execution_count": 94,
   "metadata": {},
   "outputs": [
    {
     "data": {
      "text/html": [
       "<div>\n",
       "<style scoped>\n",
       "    .dataframe tbody tr th:only-of-type {\n",
       "        vertical-align: middle;\n",
       "    }\n",
       "\n",
       "    .dataframe tbody tr th {\n",
       "        vertical-align: top;\n",
       "    }\n",
       "\n",
       "    .dataframe thead th {\n",
       "        text-align: right;\n",
       "    }\n",
       "</style>\n",
       "<table border=\"1\" class=\"dataframe\">\n",
       "  <thead>\n",
       "    <tr style=\"text-align: right;\">\n",
       "      <th></th>\n",
       "      <th>id</th>\n",
       "      <th>name</th>\n",
       "      <th>description</th>\n",
       "      <th>created_at</th>\n",
       "      <th>created_by_id</th>\n",
       "      <th>last_modified_at</th>\n",
       "      <th>last_modified_by_id</th>\n",
       "      <th>href</th>\n",
       "    </tr>\n",
       "  </thead>\n",
       "  <tbody>\n",
       "    <tr>\n",
       "      <th>0</th>\n",
       "      <td>AccessGroupId-9fd8d65d-0148-4c44-860d-89c65f454198</td>\n",
       "      <td>customer_analysts</td>\n",
       "      <td></td>\n",
       "      <td>2023-11-24T17:00:00Z</td>\n",
       "      <td>IBMid-503E85GQTC</td>\n",
       "      <td>2023-11-24T17:00:00Z</td>\n",
       "      <td>IBMid-503E85GQTC</td>\n",
       "      <td>https://iam.cloud.ibm.com/v2/groups/AccessGroupId-9fd8d65d-0148-4c44-860d-89c65f454198</td>\n",
       "    </tr>\n",
       "    <tr>\n",
       "      <th>1</th>\n",
       "      <td>AccessGroupId-228cc825-5e6e-4cd9-933d-769a1e930412</td>\n",
       "      <td>DBAs</td>\n",
       "      <td></td>\n",
       "      <td>2023-11-24T17:00:01Z</td>\n",
       "      <td>IBMid-503E85GQTC</td>\n",
       "      <td>2023-11-24T17:00:01Z</td>\n",
       "      <td>IBMid-503E85GQTC</td>\n",
       "      <td>https://iam.cloud.ibm.com/v2/groups/AccessGroupId-228cc825-5e6e-4cd9-933d-769a1e930412</td>\n",
       "    </tr>\n",
       "    <tr>\n",
       "      <th>2</th>\n",
       "      <td>AccessGroupId-e41ad631-6669-4fb4-86b2-d2a49ac7cf74</td>\n",
       "      <td>marketing_fulfillment</td>\n",
       "      <td></td>\n",
       "      <td>2023-11-24T17:00:00Z</td>\n",
       "      <td>IBMid-503E85GQTC</td>\n",
       "      <td>2023-11-24T17:00:00Z</td>\n",
       "      <td>IBMid-503E85GQTC</td>\n",
       "      <td>https://iam.cloud.ibm.com/v2/groups/AccessGroupId-e41ad631-6669-4fb4-86b2-d2a49ac7cf74</td>\n",
       "    </tr>\n",
       "    <tr>\n",
       "      <th>3</th>\n",
       "      <td>AccessGroupId-687115d9-fe10-4e8d-893e-8b1933b4fcb4</td>\n",
       "      <td>portfolio_managers</td>\n",
       "      <td></td>\n",
       "      <td>2023-11-24T17:00:00Z</td>\n",
       "      <td>IBMid-503E85GQTC</td>\n",
       "      <td>2023-11-24T17:00:00Z</td>\n",
       "      <td>IBMid-503E85GQTC</td>\n",
       "      <td>https://iam.cloud.ibm.com/v2/groups/AccessGroupId-687115d9-fe10-4e8d-893e-8b1933b4fcb4</td>\n",
       "    </tr>\n",
       "    <tr>\n",
       "      <th>4</th>\n",
       "      <td>AccessGroupId-PublicAccess</td>\n",
       "      <td>Public Access</td>\n",
       "      <td>This group includes all users and service IDs by default. All group members, including unauthenticated users, are given public access to any resources that are defined in the policies for the group.</td>\n",
       "      <td>2019-02-23T12:00:00Z</td>\n",
       "      <td>iam-ServiceId-bf540d3e-02b4-4c74-9b00-267936f4c009</td>\n",
       "      <td></td>\n",
       "      <td></td>\n",
       "      <td>https://iam.cloud.ibm.com/v2/groups/AccessGroupId-PublicAccess</td>\n",
       "    </tr>\n",
       "  </tbody>\n",
       "</table>\n",
       "</div>"
      ],
      "text/plain": [
       "                                                   id                   name  \\\n",
       "0  AccessGroupId-9fd8d65d-0148-4c44-860d-89c65f454198      customer_analysts   \n",
       "1  AccessGroupId-228cc825-5e6e-4cd9-933d-769a1e930412                   DBAs   \n",
       "2  AccessGroupId-e41ad631-6669-4fb4-86b2-d2a49ac7cf74  marketing_fulfillment   \n",
       "3  AccessGroupId-687115d9-fe10-4e8d-893e-8b1933b4fcb4     portfolio_managers   \n",
       "4                          AccessGroupId-PublicAccess          Public Access   \n",
       "\n",
       "                                                                                                                                                                                              description  \\\n",
       "0                                                                                                                                                                                                           \n",
       "1                                                                                                                                                                                                           \n",
       "2                                                                                                                                                                                                           \n",
       "3                                                                                                                                                                                                           \n",
       "4  This group includes all users and service IDs by default. All group members, including unauthenticated users, are given public access to any resources that are defined in the policies for the group.   \n",
       "\n",
       "             created_at                                       created_by_id  \\\n",
       "0  2023-11-24T17:00:00Z                                    IBMid-503E85GQTC   \n",
       "1  2023-11-24T17:00:01Z                                    IBMid-503E85GQTC   \n",
       "2  2023-11-24T17:00:00Z                                    IBMid-503E85GQTC   \n",
       "3  2023-11-24T17:00:00Z                                    IBMid-503E85GQTC   \n",
       "4  2019-02-23T12:00:00Z  iam-ServiceId-bf540d3e-02b4-4c74-9b00-267936f4c009   \n",
       "\n",
       "       last_modified_at last_modified_by_id  \\\n",
       "0  2023-11-24T17:00:00Z    IBMid-503E85GQTC   \n",
       "1  2023-11-24T17:00:01Z    IBMid-503E85GQTC   \n",
       "2  2023-11-24T17:00:00Z    IBMid-503E85GQTC   \n",
       "3  2023-11-24T17:00:00Z    IBMid-503E85GQTC   \n",
       "4                                             \n",
       "\n",
       "                                                                                     href  \n",
       "0  https://iam.cloud.ibm.com/v2/groups/AccessGroupId-9fd8d65d-0148-4c44-860d-89c65f454198  \n",
       "1  https://iam.cloud.ibm.com/v2/groups/AccessGroupId-228cc825-5e6e-4cd9-933d-769a1e930412  \n",
       "2  https://iam.cloud.ibm.com/v2/groups/AccessGroupId-e41ad631-6669-4fb4-86b2-d2a49ac7cf74  \n",
       "3  https://iam.cloud.ibm.com/v2/groups/AccessGroupId-687115d9-fe10-4e8d-893e-8b1933b4fcb4  \n",
       "4                          https://iam.cloud.ibm.com/v2/groups/AccessGroupId-PublicAccess  "
      ]
     },
     "execution_count": 94,
     "metadata": {},
     "output_type": "execute_result"
    }
   ],
   "source": [
    "cosaccess.create_access_group(access_group_name=\"customer_analysts\")\n",
    "cosaccess.create_access_group(access_group_name=\"marketing_fulfillment\")\n",
    "cosaccess.create_access_group(access_group_name=\"portfolio_managers\")\n",
    "cosaccess.create_access_group(access_group_name=\"DBAs\")\n",
    "cosaccess.get_access_groups()"
   ]
  },
  {
   "cell_type": "markdown",
   "metadata": {},
   "source": [
    "#### <a id=\"access_policies\"></a> Set up the fine-grained table access policies for the demo"
   ]
  },
  {
   "cell_type": "markdown",
   "metadata": {},
   "source": [
    "For the demo we apply some governance assumption as follows:\n",
    " - Portfolio managers need to be able to read and write the list of products in the `products` table. They don't have a need to know anything about the sales transactions or customer contact details.\n",
    " - Customer analysts need to be able to read the sales transactions in the `sales` table and the product details in the `products` table. But they don't have a need to know the customer contact details or product details.\n",
    " - Marketing fullfilment needs to read the customer contact details in the `customer` table to send out customer nurture and campaign material to customers. They don't have a need to know any other tables contents.\n",
    " - The DBAs need read and write access to all three tables in the data mart.\n",
    "\n",
    "The following four commands grant four fine-grained table access policies to the access groups that we have created beforehand for these different personas. We then list the new table access policies for your information."
   ]
  },
  {
   "cell_type": "code",
   "execution_count": 104,
   "metadata": {},
   "outputs": [
    {
     "data": {
      "text/html": [
       "<div>\n",
       "<style scoped>\n",
       "    .dataframe tbody tr th:only-of-type {\n",
       "        vertical-align: middle;\n",
       "    }\n",
       "\n",
       "    .dataframe tbody tr th {\n",
       "        vertical-align: top;\n",
       "    }\n",
       "\n",
       "    .dataframe thead th {\n",
       "        text-align: right;\n",
       "    }\n",
       "</style>\n",
       "<table border=\"1\" class=\"dataframe\">\n",
       "  <thead>\n",
       "    <tr style=\"text-align: right;\">\n",
       "      <th></th>\n",
       "      <th>instance</th>\n",
       "      <th>bucket</th>\n",
       "      <th>paths</th>\n",
       "      <th>roles</th>\n",
       "      <th>user</th>\n",
       "      <th>service_id</th>\n",
       "      <th>access_group</th>\n",
       "      <th>access_group_id</th>\n",
       "      <th>iam_id</th>\n",
       "      <th>other_subject</th>\n",
       "      <th>policy_id</th>\n",
       "    </tr>\n",
       "  </thead>\n",
       "  <tbody>\n",
       "    <tr>\n",
       "      <th>0</th>\n",
       "      <td>0ca7988d-6cb0-4ccf-85e3-9d7af75d5e0d</td>\n",
       "      <td>fgac-lake</td>\n",
       "      <td>[data_mart/products*, data_mart/sales*, data_mart/customers*]</td>\n",
       "      <td>[Reader, Writer]</td>\n",
       "      <td></td>\n",
       "      <td></td>\n",
       "      <td>DBAs</td>\n",
       "      <td>AccessGroupId-228cc825-5e6e-4cd9-933d-769a1e930412</td>\n",
       "      <td></td>\n",
       "      <td></td>\n",
       "      <td>123d7600-8f5d-439f-9201-b3f320419df6</td>\n",
       "    </tr>\n",
       "    <tr>\n",
       "      <th>1</th>\n",
       "      <td>0ca7988d-6cb0-4ccf-85e3-9d7af75d5e0d</td>\n",
       "      <td>fgac-lake</td>\n",
       "      <td>[data_mart/sales*, data_mart/products*]</td>\n",
       "      <td>[Reader]</td>\n",
       "      <td></td>\n",
       "      <td></td>\n",
       "      <td>customer_analysts</td>\n",
       "      <td>AccessGroupId-9fd8d65d-0148-4c44-860d-89c65f454198</td>\n",
       "      <td></td>\n",
       "      <td></td>\n",
       "      <td>811ae0d7-c5a9-4a49-96c9-8c388ba4deef</td>\n",
       "    </tr>\n",
       "    <tr>\n",
       "      <th>2</th>\n",
       "      <td>0ca7988d-6cb0-4ccf-85e3-9d7af75d5e0d</td>\n",
       "      <td>fgac-lake</td>\n",
       "      <td>data_mart/products*</td>\n",
       "      <td>[Reader, Writer]</td>\n",
       "      <td></td>\n",
       "      <td></td>\n",
       "      <td>portfolio_managers</td>\n",
       "      <td>AccessGroupId-687115d9-fe10-4e8d-893e-8b1933b4fcb4</td>\n",
       "      <td></td>\n",
       "      <td></td>\n",
       "      <td>f0081d24-6d22-416c-8948-4e327452cee0</td>\n",
       "    </tr>\n",
       "    <tr>\n",
       "      <th>1</th>\n",
       "      <td>0ca7988d-6cb0-4ccf-85e3-9d7af75d5e0d</td>\n",
       "      <td>fgac-lake</td>\n",
       "      <td>data_mart/customers*</td>\n",
       "      <td>[Reader]</td>\n",
       "      <td></td>\n",
       "      <td></td>\n",
       "      <td>marketing_fulfillment</td>\n",
       "      <td>AccessGroupId-e41ad631-6669-4fb4-86b2-d2a49ac7cf74</td>\n",
       "      <td></td>\n",
       "      <td></td>\n",
       "      <td>5fe99ecc-5787-4540-9bae-28a3d63d6359</td>\n",
       "    </tr>\n",
       "  </tbody>\n",
       "</table>\n",
       "</div>"
      ],
      "text/plain": [
       "                               instance     bucket  \\\n",
       "0  0ca7988d-6cb0-4ccf-85e3-9d7af75d5e0d  fgac-lake   \n",
       "1  0ca7988d-6cb0-4ccf-85e3-9d7af75d5e0d  fgac-lake   \n",
       "2  0ca7988d-6cb0-4ccf-85e3-9d7af75d5e0d  fgac-lake   \n",
       "1  0ca7988d-6cb0-4ccf-85e3-9d7af75d5e0d  fgac-lake   \n",
       "\n",
       "                                                           paths  \\\n",
       "0  [data_mart/products*, data_mart/sales*, data_mart/customers*]   \n",
       "1                        [data_mart/sales*, data_mart/products*]   \n",
       "2                                            data_mart/products*   \n",
       "1                                           data_mart/customers*   \n",
       "\n",
       "              roles user service_id           access_group  \\\n",
       "0  [Reader, Writer]                                   DBAs   \n",
       "1          [Reader]                      customer_analysts   \n",
       "2  [Reader, Writer]                     portfolio_managers   \n",
       "1          [Reader]                  marketing_fulfillment   \n",
       "\n",
       "                                      access_group_id iam_id other_subject  \\\n",
       "0  AccessGroupId-228cc825-5e6e-4cd9-933d-769a1e930412                        \n",
       "1  AccessGroupId-9fd8d65d-0148-4c44-860d-89c65f454198                        \n",
       "2  AccessGroupId-687115d9-fe10-4e8d-893e-8b1933b4fcb4                        \n",
       "1  AccessGroupId-e41ad631-6669-4fb4-86b2-d2a49ac7cf74                        \n",
       "\n",
       "                              policy_id  \n",
       "0  123d7600-8f5d-439f-9201-b3f320419df6  \n",
       "1  811ae0d7-c5a9-4a49-96c9-8c388ba4deef  \n",
       "2  f0081d24-6d22-416c-8948-4e327452cee0  \n",
       "1  5fe99ecc-5787-4540-9bae-28a3d63d6359  "
      ]
     },
     "execution_count": 104,
     "metadata": {},
     "output_type": "execute_result"
    }
   ],
   "source": [
    "data_engine_access.grant_table_access(table_names=[\"products\"], roles=[\"Reader\", \"Writer\"], access_group_name=\"portfolio_managers\")\n",
    "data_engine_access.grant_table_access(table_names=[\"sales\", \"products\"], roles=[\"Reader\"], access_group_name=\"customer_analysts\")\n",
    "data_engine_access.grant_table_access(table_names=[\"customers\"], roles=[\"Reader\"], access_group_name=\"marketing_fulfillment\")\n",
    "data_engine_access.grant_table_access(table_names=[\"products\", \"sales\", \"customers\"], roles=[\"Reader\", \"Writer\"], access_group_name=\"DBAs\")\n",
    "\n",
    "data_engine_access.get_policies_for_tables(table_names=[\"products\", \"sales\", \"customers\"], roles=[\"Reader\", \"Writer\"])"
   ]
  },
  {
   "cell_type": "markdown",
   "metadata": {},
   "source": [
    "#### <a id=\"service_ids\"></a> Set up Service IDs with individual API Keys for each access group\n",
    "We will use these service IDs further down to demonstrate the effects of the fine-grained access policies when the data lake data is accessed. We create each service ID and then assign it to the according access group. We also retrieve and memorize the API Key for each service ID for later. We then list the new service IDs for your information."
   ]
  },
  {
   "cell_type": "code",
   "execution_count": 96,
   "metadata": {},
   "outputs": [
    {
     "data": {
      "text/html": [
       "<div>\n",
       "<style scoped>\n",
       "    .dataframe tbody tr th:only-of-type {\n",
       "        vertical-align: middle;\n",
       "    }\n",
       "\n",
       "    .dataframe tbody tr th {\n",
       "        vertical-align: top;\n",
       "    }\n",
       "\n",
       "    .dataframe thead th {\n",
       "        text-align: right;\n",
       "    }\n",
       "</style>\n",
       "<table border=\"1\" class=\"dataframe\">\n",
       "  <thead>\n",
       "    <tr style=\"text-align: right;\">\n",
       "      <th></th>\n",
       "      <th>id</th>\n",
       "      <th>iam_id</th>\n",
       "      <th>entity_tag</th>\n",
       "      <th>crn</th>\n",
       "      <th>locked</th>\n",
       "      <th>created_at</th>\n",
       "      <th>created_by</th>\n",
       "      <th>modified_at</th>\n",
       "      <th>account_id</th>\n",
       "      <th>name</th>\n",
       "      <th>unique_instance_crns</th>\n",
       "    </tr>\n",
       "  </thead>\n",
       "  <tbody>\n",
       "    <tr>\n",
       "      <th>0</th>\n",
       "      <td>ServiceId-fda19091-cd64-498c-883c-0ee3a27d0a52</td>\n",
       "      <td>iam-ServiceId-fda19091-cd64-498c-883c-0ee3a27d0a52</td>\n",
       "      <td>1-147f28085d11e1c62ae364c04f05fb82</td>\n",
       "      <td>crn:v1:bluemix:public:iam-identity::a/fcb2ad051f2c0819da9b2c9596977a14::serviceid:ServiceId-fda19091-cd64-498c-883c-0ee3a27d0a52</td>\n",
       "      <td>False</td>\n",
       "      <td>2023-11-24T17:01+0000</td>\n",
       "      <td>IBMid-503E85GQTC</td>\n",
       "      <td>2023-11-24T17:01+0000</td>\n",
       "      <td>fcb2ad051f2c0819da9b2c9596977a14</td>\n",
       "      <td>customer_analysts Service ID</td>\n",
       "      <td>[]</td>\n",
       "    </tr>\n",
       "    <tr>\n",
       "      <th>1</th>\n",
       "      <td>ServiceId-51e1270c-7ef2-4459-9527-f7ab542a2dee</td>\n",
       "      <td>iam-ServiceId-51e1270c-7ef2-4459-9527-f7ab542a2dee</td>\n",
       "      <td>1-81d28140776651edb0607c970f4fdcd0</td>\n",
       "      <td>crn:v1:bluemix:public:iam-identity::a/fcb2ad051f2c0819da9b2c9596977a14::serviceid:ServiceId-51e1270c-7ef2-4459-9527-f7ab542a2dee</td>\n",
       "      <td>False</td>\n",
       "      <td>2023-11-24T17:01+0000</td>\n",
       "      <td>IBMid-503E85GQTC</td>\n",
       "      <td>2023-11-24T17:01+0000</td>\n",
       "      <td>fcb2ad051f2c0819da9b2c9596977a14</td>\n",
       "      <td>DBAs Service ID</td>\n",
       "      <td>[]</td>\n",
       "    </tr>\n",
       "    <tr>\n",
       "      <th>2</th>\n",
       "      <td>ServiceId-f7d1917a-5dbd-47a9-80ae-f1f3903c046f</td>\n",
       "      <td>iam-ServiceId-f7d1917a-5dbd-47a9-80ae-f1f3903c046f</td>\n",
       "      <td>1-db4ba194bc0061b8aab63d5a690fdb3d</td>\n",
       "      <td>crn:v1:bluemix:public:iam-identity::a/fcb2ad051f2c0819da9b2c9596977a14::serviceid:ServiceId-f7d1917a-5dbd-47a9-80ae-f1f3903c046f</td>\n",
       "      <td>False</td>\n",
       "      <td>2023-11-24T17:01+0000</td>\n",
       "      <td>IBMid-503E85GQTC</td>\n",
       "      <td>2023-11-24T17:01+0000</td>\n",
       "      <td>fcb2ad051f2c0819da9b2c9596977a14</td>\n",
       "      <td>marketing_fulfillment Service ID</td>\n",
       "      <td>[]</td>\n",
       "    </tr>\n",
       "    <tr>\n",
       "      <th>3</th>\n",
       "      <td>ServiceId-2a672594-d2e7-4111-8f5f-ed4d814dcfc1</td>\n",
       "      <td>iam-ServiceId-2a672594-d2e7-4111-8f5f-ed4d814dcfc1</td>\n",
       "      <td>1-8f1385b12f24399706c1c0b48373d590</td>\n",
       "      <td>crn:v1:bluemix:public:iam-identity::a/fcb2ad051f2c0819da9b2c9596977a14::serviceid:ServiceId-2a672594-d2e7-4111-8f5f-ed4d814dcfc1</td>\n",
       "      <td>False</td>\n",
       "      <td>2023-11-24T17:01+0000</td>\n",
       "      <td>IBMid-503E85GQTC</td>\n",
       "      <td>2023-11-24T17:01+0000</td>\n",
       "      <td>fcb2ad051f2c0819da9b2c9596977a14</td>\n",
       "      <td>portfolio_managers Service ID</td>\n",
       "      <td>[]</td>\n",
       "    </tr>\n",
       "  </tbody>\n",
       "</table>\n",
       "</div>"
      ],
      "text/plain": [
       "                                               id  \\\n",
       "0  ServiceId-fda19091-cd64-498c-883c-0ee3a27d0a52   \n",
       "1  ServiceId-51e1270c-7ef2-4459-9527-f7ab542a2dee   \n",
       "2  ServiceId-f7d1917a-5dbd-47a9-80ae-f1f3903c046f   \n",
       "3  ServiceId-2a672594-d2e7-4111-8f5f-ed4d814dcfc1   \n",
       "\n",
       "                                               iam_id  \\\n",
       "0  iam-ServiceId-fda19091-cd64-498c-883c-0ee3a27d0a52   \n",
       "1  iam-ServiceId-51e1270c-7ef2-4459-9527-f7ab542a2dee   \n",
       "2  iam-ServiceId-f7d1917a-5dbd-47a9-80ae-f1f3903c046f   \n",
       "3  iam-ServiceId-2a672594-d2e7-4111-8f5f-ed4d814dcfc1   \n",
       "\n",
       "                           entity_tag  \\\n",
       "0  1-147f28085d11e1c62ae364c04f05fb82   \n",
       "1  1-81d28140776651edb0607c970f4fdcd0   \n",
       "2  1-db4ba194bc0061b8aab63d5a690fdb3d   \n",
       "3  1-8f1385b12f24399706c1c0b48373d590   \n",
       "\n",
       "                                                                                                                                crn  \\\n",
       "0  crn:v1:bluemix:public:iam-identity::a/fcb2ad051f2c0819da9b2c9596977a14::serviceid:ServiceId-fda19091-cd64-498c-883c-0ee3a27d0a52   \n",
       "1  crn:v1:bluemix:public:iam-identity::a/fcb2ad051f2c0819da9b2c9596977a14::serviceid:ServiceId-51e1270c-7ef2-4459-9527-f7ab542a2dee   \n",
       "2  crn:v1:bluemix:public:iam-identity::a/fcb2ad051f2c0819da9b2c9596977a14::serviceid:ServiceId-f7d1917a-5dbd-47a9-80ae-f1f3903c046f   \n",
       "3  crn:v1:bluemix:public:iam-identity::a/fcb2ad051f2c0819da9b2c9596977a14::serviceid:ServiceId-2a672594-d2e7-4111-8f5f-ed4d814dcfc1   \n",
       "\n",
       "   locked             created_at        created_by            modified_at  \\\n",
       "0   False  2023-11-24T17:01+0000  IBMid-503E85GQTC  2023-11-24T17:01+0000   \n",
       "1   False  2023-11-24T17:01+0000  IBMid-503E85GQTC  2023-11-24T17:01+0000   \n",
       "2   False  2023-11-24T17:01+0000  IBMid-503E85GQTC  2023-11-24T17:01+0000   \n",
       "3   False  2023-11-24T17:01+0000  IBMid-503E85GQTC  2023-11-24T17:01+0000   \n",
       "\n",
       "                         account_id                              name  \\\n",
       "0  fcb2ad051f2c0819da9b2c9596977a14      customer_analysts Service ID   \n",
       "1  fcb2ad051f2c0819da9b2c9596977a14                   DBAs Service ID   \n",
       "2  fcb2ad051f2c0819da9b2c9596977a14  marketing_fulfillment Service ID   \n",
       "3  fcb2ad051f2c0819da9b2c9596977a14     portfolio_managers Service ID   \n",
       "\n",
       "  unique_instance_crns  \n",
       "0                   []  \n",
       "1                   []  \n",
       "2                   []  \n",
       "3                   []  "
      ]
     },
     "execution_count": 96,
     "metadata": {},
     "output_type": "execute_result"
    }
   ],
   "source": [
    "sid = cosaccess.create_service_id(service_id_name=\"portfolio_managers Service ID\", with_apikey=True)\n",
    "cosaccess.add_member_to_access_group(access_group_name=\"portfolio_managers\", service_id_name=\"portfolio_managers Service ID\")\n",
    "portfolio_managers_apikey=sid[\"apikey\"][\"apikey\"]\n",
    "\n",
    "sid = cosaccess.create_service_id(service_id_name=\"customer_analysts Service ID\", with_apikey=True)\n",
    "cosaccess.add_member_to_access_group(access_group_name=\"customer_analysts\", service_id_name=\"customer_analysts Service ID\")\n",
    "customer_analysts_apikey=sid[\"apikey\"][\"apikey\"]\n",
    "\n",
    "sid = cosaccess.create_service_id(service_id_name=\"marketing_fulfillment Service ID\", with_apikey=True)\n",
    "cosaccess.add_member_to_access_group(access_group_name=\"marketing_fulfillment\", service_id_name=\"marketing_fulfillment Service ID\")\n",
    "marketing_fulfillment_apikey=sid[\"apikey\"][\"apikey\"]\n",
    "\n",
    "sid = cosaccess.create_service_id(service_id_name=\"DBAs Service ID\", with_apikey=True)\n",
    "cosaccess.add_member_to_access_group(access_group_name=\"DBAs\", service_id_name=\"DBAs Service ID\")\n",
    "dbas_apikey=sid[\"apikey\"][\"apikey\"]\n",
    "\n",
    "cosaccess.get_service_ids()"
   ]
  },
  {
   "cell_type": "markdown",
   "metadata": {},
   "source": [
    "As an example we show the access group members for one access group, which should comprise exactly the according service ID that we just created and added to that access group:"
   ]
  },
  {
   "cell_type": "code",
   "execution_count": 97,
   "metadata": {},
   "outputs": [
    {
     "data": {
      "text/html": [
       "<div>\n",
       "<style scoped>\n",
       "    .dataframe tbody tr th:only-of-type {\n",
       "        vertical-align: middle;\n",
       "    }\n",
       "\n",
       "    .dataframe tbody tr th {\n",
       "        vertical-align: top;\n",
       "    }\n",
       "\n",
       "    .dataframe thead th {\n",
       "        text-align: right;\n",
       "    }\n",
       "</style>\n",
       "<table border=\"1\" class=\"dataframe\">\n",
       "  <thead>\n",
       "    <tr style=\"text-align: right;\">\n",
       "      <th></th>\n",
       "      <th>iam_id</th>\n",
       "      <th>type</th>\n",
       "      <th>membership_type</th>\n",
       "      <th>href</th>\n",
       "      <th>created_at</th>\n",
       "      <th>created_by_id</th>\n",
       "      <th>service_id_name</th>\n",
       "      <th>user_name</th>\n",
       "    </tr>\n",
       "  </thead>\n",
       "  <tbody>\n",
       "    <tr>\n",
       "      <th>0</th>\n",
       "      <td>iam-ServiceId-2a672594-d2e7-4111-8f5f-ed4d814dcfc1</td>\n",
       "      <td>service</td>\n",
       "      <td>static</td>\n",
       "      <td>https://iam.cloud.ibm.com/v2/groups/AccessGroupId-687115d9-fe10-4e8d-893e-8b1933b4fcb4/members/iam-ServiceId-2a672594-d2e7-4111-8f5f-ed4d814dcfc1</td>\n",
       "      <td>2023-11-24T17:01:22Z</td>\n",
       "      <td>IBMid-503E85GQTC</td>\n",
       "      <td>portfolio_managers Service ID</td>\n",
       "      <td></td>\n",
       "    </tr>\n",
       "  </tbody>\n",
       "</table>\n",
       "</div>"
      ],
      "text/plain": [
       "                                               iam_id     type  \\\n",
       "0  iam-ServiceId-2a672594-d2e7-4111-8f5f-ed4d814dcfc1  service   \n",
       "\n",
       "  membership_type  \\\n",
       "0          static   \n",
       "\n",
       "                                                                                                                                                href  \\\n",
       "0  https://iam.cloud.ibm.com/v2/groups/AccessGroupId-687115d9-fe10-4e8d-893e-8b1933b4fcb4/members/iam-ServiceId-2a672594-d2e7-4111-8f5f-ed4d814dcfc1   \n",
       "\n",
       "             created_at     created_by_id                service_id_name  \\\n",
       "0  2023-11-24T17:01:22Z  IBMid-503E85GQTC  portfolio_managers Service ID   \n",
       "\n",
       "  user_name  \n",
       "0            "
      ]
     },
     "execution_count": 97,
     "metadata": {},
     "output_type": "execute_result"
    }
   ],
   "source": [
    "cosaccess.get_access_group_members(access_group_name=\"portfolio_managers\")"
   ]
  },
  {
   "cell_type": "markdown",
   "metadata": {},
   "source": [
    "## <a id=\"access_demo\"></a> 4. COS Access Enforcement Demo\n",
    "[Home](#toc)\n",
    "\n",
    "After we have set up and hardened the data lake data on COS in the previous section, we will now in this section excercise different read and write operations with the different personas on the data in order to demonstrate that our access governance policies are properly enforced with any access.\n",
    "\n",
    "We are using ibm_boto3 library to perform the different COS access operations."
   ]
  },
  {
   "cell_type": "markdown",
   "metadata": {},
   "source": [
    "#### <a id=\"dbas_access\"></a> DBAs Access\n",
    "Demonstrate that DBAs can read and write objects in all three tables but cannot read or write anything in a different table location:"
   ]
  },
  {
   "cell_type": "code",
   "execution_count": 100,
   "metadata": {},
   "outputs": [
    {
     "name": "stdout",
     "output_type": "stream",
     "text": [
      "Wrote data in products table successfully\n",
      "Read data in products table successfully\n",
      "Deleted data from products table successfully\n",
      "Works as designed for other_table: An error occurred (AccessForbidden) when calling the GetObject operation: Access Forbidden\n",
      "Works as designed for other_table: An error occurred (AccessDenied) when calling the PutObject operation: Access Denied\n"
     ]
    }
   ],
   "source": [
    "# We create new boto3 COS clients with the DBAs API key \n",
    "# (the API key of the service ID that we created above and added to DBAs access group)\n",
    "dbas_cosresource = ibm_boto3.resource(\"s3\", ibm_api_key_id=dbas_apikey,\n",
    "                        ibm_service_instance_id=cosaccess.get_cos_instance_crn(bucket),\n",
    "                        config=Config(signature_version=\"oauth\"),\n",
    "                        endpoint_url=cosaccess.get_cos_endpoint(bucket))\n",
    "dbas_cosclient = ibm_boto3.client(\"s3\", ibm_api_key_id=dbas_apikey, # For delete we need the lower level COS client, unfortunately\n",
    "                        ibm_service_instance_id=cosaccess.get_cos_instance_crn(bucket),\n",
    "                        config=Config(signature_version=\"oauth\"),\n",
    "                        endpoint_url=cosaccess.get_cos_endpoint(bucket))\n",
    "\n",
    "dbas_cosresource.Object(bucket, \"data_mart/products/plumpf.parquet\").put(Body=\"\")\n",
    "print(\"Wrote data in products table successfully\")\n",
    "dbas_cosresource.Object(bucket, \"data_mart/products/plumpf.parquet\").get()\n",
    "print(\"Read data in products table successfully\")\n",
    "dbas_cosclient.delete_object(Bucket=bucket, Key=\"data_mart/products/plumpf.parquet\")\n",
    "print(\"Deleted data from products table successfully\")\n",
    "try:\n",
    "    dbas_cosresource.Object(bucket, \"data_mart/other_table/plumpf.parquet\").get()\n",
    "except ClientError as e:\n",
    "    print(\"Works as designed for other_table: \" + str(e))\n",
    "try:\n",
    "    dbas_cosresource.Object(bucket, \"data_mart/other_table/plumpf.parquet\").put(Body=\"\")\n",
    "except ClientError as e:\n",
    "    print(\"Works as designed for other_table: \" + str(e))"
   ]
  },
  {
   "cell_type": "markdown",
   "metadata": {},
   "source": [
    "#### <a id=\"portfolio_manager_access\"></a> Portfolio Manager Access\n",
    "Demonstrate that portfolio managers can read objects in the `products` table and that they cannot read data in the other tables of the data mart:"
   ]
  },
  {
   "cell_type": "code",
   "execution_count": 101,
   "metadata": {},
   "outputs": [
    {
     "name": "stdout",
     "output_type": "stream",
     "text": [
      "Read data in products table successfully\n",
      "Works as designed for sales table: An error occurred (AccessDenied) when calling the GetObject operation: Access Denied\n",
      "Works as designed for customers table: An error occurred (AccessDenied) when calling the GetObject operation: Access Denied\n"
     ]
    }
   ],
   "source": [
    "# We create a new boto3 COS client with the portfolio managers API key \n",
    "# (the API key of the service ID that we created above and added to portfolio_managers access group)\n",
    "portfolio_managers_cosresource = ibm_boto3.resource(\"s3\", ibm_api_key_id=portfolio_managers_apikey,\n",
    "                        ibm_service_instance_id=cosaccess.get_cos_instance_crn(bucket),\n",
    "                        config=Config(signature_version=\"oauth\"),\n",
    "                        endpoint_url=cosaccess.get_cos_endpoint(bucket))\n",
    "\n",
    "portfolio_managers_cosresource.Object(bucket, \"data_mart/products/data.parquet\").get()\n",
    "print(\"Read data in products table successfully\")\n",
    "try:\n",
    "    portfolio_managers_cosresource.Object(bucket, \"data_mart/sales/data.parquet\").get()\n",
    "except ClientError as e:\n",
    "    print(\"Works as designed for sales table: \" + str(e))\n",
    "try:\n",
    "    portfolio_managers_cosresource.Object(bucket, \"data_mart/customers/data.parquet\").get()\n",
    "except ClientError as e:\n",
    "    print(\"Works as designed for customers table: \" + str(e))"
   ]
  },
  {
   "cell_type": "markdown",
   "metadata": {},
   "source": [
    "#### <a id=\"customer_analysts_access\"></a> Customer Analysts Access\n",
    "Demonstrate that customer analysts can only read `products` and `sales` tables but cannot write them, and demonstrate that they cannot read the `customers` table:"
   ]
  },
  {
   "cell_type": "code",
   "execution_count": 105,
   "metadata": {},
   "outputs": [
    {
     "name": "stdout",
     "output_type": "stream",
     "text": [
      "Read data in products table successfully\n",
      "Read data in sales table successfully\n",
      "Works as designed for products table: An error occurred (AccessDenied) when calling the PutObject operation: Access Denied\n",
      "Works as designed for sales table: An error occurred (AccessDenied) when calling the PutObject operation: Access Denied\n",
      "Works as designed for customers table: An error occurred (AccessDenied) when calling the GetObject operation: Access Denied\n"
     ]
    }
   ],
   "source": [
    "# We create a new boto3 COS client with the customer analysts API key \n",
    "# (the API key of the service ID that we created above and added to customer_analysts access group)\n",
    "customer_analysts_cosresource = ibm_boto3.resource(\"s3\", ibm_api_key_id=customer_analysts_apikey,\n",
    "                        ibm_service_instance_id=cosaccess.get_cos_instance_crn(bucket),\n",
    "                        config=Config(signature_version=\"oauth\"),\n",
    "                        endpoint_url=cosaccess.get_cos_endpoint(bucket))\n",
    "\n",
    "customer_analysts_cosresource.Object(bucket, \"data_mart/products/data.parquet\").get()\n",
    "print(\"Read data in products table successfully\")\n",
    "customer_analysts_cosresource.Object(bucket, \"data_mart/sales/data.parquet\").get()\n",
    "print(\"Read data in sales table successfully\")\n",
    "try:\n",
    "    customer_analysts_cosresource.Object(bucket, \"data_mart/products/data.parquet\").put(Body=\"\")\n",
    "except ClientError as e:\n",
    "    print(\"Works as designed for products table: \" + str(e))\n",
    "try:\n",
    "    customer_analysts_cosresource.Object(bucket, \"data_mart/sales/data.parquet\").put(Body=\"\")\n",
    "except ClientError as e:\n",
    "    print(\"Works as designed for sales table: \" + str(e))\n",
    "try:\n",
    "    customer_analysts_cosresource.Object(bucket, \"data_mart/customers/data.parquet\").get()\n",
    "except ClientError as e:\n",
    "    print(\"Works as designed for customers table: \" + str(e))"
   ]
  },
  {
   "cell_type": "markdown",
   "metadata": {},
   "source": [
    "#### <a id=\"marketing_fullfillment_access\"></a> Marketing Fullfillment Access\n",
    "Demonstrate that marketing fullfilment can only read (but not write) `customers` table and that it cannot read any other table in the data mart:"
   ]
  },
  {
   "cell_type": "code",
   "execution_count": 106,
   "metadata": {},
   "outputs": [
    {
     "name": "stdout",
     "output_type": "stream",
     "text": [
      "Read data in customers table successfully\n",
      "Works as designed for customers table: An error occurred (AccessDenied) when calling the PutObject operation: Access Denied\n",
      "Works as designed for products table: An error occurred (AccessDenied) when calling the GetObject operation: Access Denied\n",
      "Works as designed for sales table: An error occurred (AccessDenied) when calling the GetObject operation: Access Denied\n"
     ]
    }
   ],
   "source": [
    "# We create a new boto3 COS client with the marketing fullfillment API key \n",
    "# (the API key of the service ID that we created above and added to marketing_fulfillment access group)\n",
    "marketing_fulfillment_cosresource = ibm_boto3.resource(\"s3\", ibm_api_key_id=marketing_fulfillment_apikey,\n",
    "                        ibm_service_instance_id=cosaccess.get_cos_instance_crn(bucket),\n",
    "                        config=Config(signature_version=\"oauth\"),\n",
    "                        endpoint_url=cosaccess.get_cos_endpoint(bucket))\n",
    "\n",
    "marketing_fulfillment_cosresource.Object(bucket, \"data_mart/customers/data.parquet\").get()\n",
    "print(\"Read data in customers table successfully\")\n",
    "try:\n",
    "    marketing_fulfillment_cosresource.Object(bucket, \"data_mart/customers/data.parquet\").put(Body=\"\")\n",
    "except ClientError as e:\n",
    "    print(\"Works as designed for customers table: \" + str(e))\n",
    "try:\n",
    "    marketing_fulfillment_cosresource.Object(bucket, \"data_mart/products/data.parquet\").get()\n",
    "except ClientError as e:\n",
    "    print(\"Works as designed for products table: \" + str(e))\n",
    "try:\n",
    "    marketing_fulfillment_cosresource.Object(bucket, \"data_mart/sales/data.parquet\").get()\n",
    "except ClientError as e:\n",
    "    print(\"Works as designed for sales table: \" + str(e))"
   ]
  },
  {
   "cell_type": "markdown",
   "metadata": {},
   "source": [
    "## <a id=\"cleanup\"></a> 5. Demo Clean Up\n",
    "[Home](#toc)\n",
    "\n",
    "Run all cells in this section to clean up ALL the assets that were created for the demo, including service IDs, table definitions in Data Engine, dummy data on COS and access policies."
   ]
  },
  {
   "cell_type": "markdown",
   "metadata": {},
   "source": [
    "Remove all service IDs and their associated API Keys that we created for demo:"
   ]
  },
  {
   "cell_type": "code",
   "execution_count": 107,
   "metadata": {},
   "outputs": [],
   "source": [
    "cosaccess.delete_service_id(service_id_name=\"portfolio_managers Service ID\")\n",
    "cosaccess.delete_service_id(service_id_name=\"customer_analysts Service ID\")\n",
    "cosaccess.delete_service_id(service_id_name=\"marketing_fulfillment Service ID\")\n",
    "cosaccess.delete_service_id(service_id_name=\"DBAs Service ID\")"
   ]
  },
  {
   "cell_type": "markdown",
   "metadata": {},
   "source": [
    "Remove all access policies created for the demo:"
   ]
  },
  {
   "cell_type": "code",
   "execution_count": 108,
   "metadata": {},
   "outputs": [],
   "source": [
    "for index, row in cosaccess.get_policies_for_cos_bucket(\"fgac-lake\", roles=[\"Reader\", \"Writer\"]).iterrows():\n",
    "    for paths in row[\"paths\"]:\n",
    "        cosaccess.remove_bucket_access(row[\"policy_id\"])\n",
    "        break"
   ]
  },
  {
   "cell_type": "markdown",
   "metadata": {},
   "source": [
    "Drop the demo table defintions in Data Engine:"
   ]
  },
  {
   "cell_type": "code",
   "execution_count": 112,
   "metadata": {},
   "outputs": [
    {
     "data": {
      "text/plain": [
       "'completed'"
      ]
     },
     "execution_count": 112,
     "metadata": {},
     "output_type": "execute_result"
    }
   ],
   "source": [
    "data_engine.drop_table(\"products\")\n",
    "data_engine.drop_table(\"customers\")\n",
    "data_engine.drop_table(\"sales\")"
   ]
  },
  {
   "cell_type": "markdown",
   "metadata": {},
   "source": [
    "Remove all generated demo data:"
   ]
  },
  {
   "cell_type": "code",
   "execution_count": 109,
   "metadata": {},
   "outputs": [
    {
     "data": {
      "text/html": [
       "<div>\n",
       "<style scoped>\n",
       "    .dataframe tbody tr th:only-of-type {\n",
       "        vertical-align: middle;\n",
       "    }\n",
       "\n",
       "    .dataframe tbody tr th {\n",
       "        vertical-align: top;\n",
       "    }\n",
       "\n",
       "    .dataframe thead th {\n",
       "        text-align: right;\n",
       "    }\n",
       "</style>\n",
       "<table border=\"1\" class=\"dataframe\">\n",
       "  <thead>\n",
       "    <tr style=\"text-align: right;\">\n",
       "      <th></th>\n",
       "    </tr>\n",
       "  </thead>\n",
       "  <tbody>\n",
       "  </tbody>\n",
       "</table>\n",
       "</div>"
      ],
      "text/plain": [
       "Empty DataFrame\n",
       "Columns: []\n",
       "Index: []"
      ]
     },
     "execution_count": 109,
     "metadata": {},
     "output_type": "execute_result"
    }
   ],
   "source": [
    "cosaccess.delete_cos_object(cos_bucket=bucket, object_path=\"data_mart/customers/data.parquet\")\n",
    "cosaccess.delete_cos_object(cos_bucket=bucket, object_path=\"data_mart/products/data.parquet\")\n",
    "cosaccess.delete_cos_object(cos_bucket=bucket, object_path=\"data_mart/sales/data.parquet\")\n",
    "cosaccess.get_cos_objects(bucket, prefix=\"data_mart\")"
   ]
  },
  {
   "cell_type": "markdown",
   "metadata": {},
   "source": [
    "Remove all access groups of the demo:"
   ]
  },
  {
   "cell_type": "code",
   "execution_count": 110,
   "metadata": {},
   "outputs": [],
   "source": [
    "cosaccess.delete_access_group(access_group_name=\"customer_analysts\", force=True)\n",
    "cosaccess.delete_access_group(access_group_name=\"marketing_fulfillment\", force=True)\n",
    "cosaccess.delete_access_group(access_group_name=\"portfolio_managers\", force=True)\n",
    "cosaccess.delete_access_group(access_group_name=\"DBAs\", force=True)"
   ]
  },
  {
   "cell_type": "markdown",
   "metadata": {},
   "source": [
    "This concludes the core demo of the `cosaccess` package for fine-grained access management and control on COS. The next section shows additional functions that you can fine in the `cosaccess` package beyond the ones we used for the demo above."
   ]
  },
  {
   "cell_type": "markdown",
   "metadata": {},
   "source": [
    "## <a id=\"reference\"></a> 6. Further Reference\n",
    "[Home](#toc)"
   ]
  },
  {
   "cell_type": "markdown",
   "metadata": {},
   "source": [
    "### <a id=\"iam_helpers\"></a> IAM Helpers\n",
    "This section shows generic helper methods providing an easy way work with users, service IDs and access groups in your account."
   ]
  },
  {
   "cell_type": "markdown",
   "metadata": {},
   "source": [
    "#### <a id=\"user_helpers\"></a> Users\n",
    "Get a table with all users and their details in your account:"
   ]
  },
  {
   "cell_type": "code",
   "execution_count": 111,
   "metadata": {},
   "outputs": [
    {
     "data": {
      "text/html": [
       "<div>\n",
       "<style scoped>\n",
       "    .dataframe tbody tr th:only-of-type {\n",
       "        vertical-align: middle;\n",
       "    }\n",
       "\n",
       "    .dataframe tbody tr th {\n",
       "        vertical-align: top;\n",
       "    }\n",
       "\n",
       "    .dataframe thead th {\n",
       "        text-align: right;\n",
       "    }\n",
       "</style>\n",
       "<table border=\"1\" class=\"dataframe\">\n",
       "  <thead>\n",
       "    <tr style=\"text-align: right;\">\n",
       "      <th></th>\n",
       "      <th>id</th>\n",
       "      <th>iam_id</th>\n",
       "      <th>realm</th>\n",
       "      <th>user_id</th>\n",
       "      <th>firstname</th>\n",
       "      <th>lastname</th>\n",
       "      <th>state</th>\n",
       "      <th>sub_state</th>\n",
       "      <th>email</th>\n",
       "      <th>phonenumber</th>\n",
       "      <th>altphonenumber</th>\n",
       "      <th>photo</th>\n",
       "      <th>account_id</th>\n",
       "      <th>added_on</th>\n",
       "    </tr>\n",
       "  </thead>\n",
       "  <tbody>\n",
       "    <tr>\n",
       "      <th>0</th>\n",
       "      <td>1cc3d91813972d6327bd2cf403595979</td>\n",
       "      <td>IBMid-120000ETQ5</td>\n",
       "      <td>IBMid</td>\n",
       "      <td>torsten@de.ibm.com</td>\n",
       "      <td>Torsten</td>\n",
       "      <td>Steinbach</td>\n",
       "      <td>ACTIVE</td>\n",
       "      <td></td>\n",
       "      <td>torsten@de.ibm.com</td>\n",
       "      <td>49-7031-16-4686</td>\n",
       "      <td></td>\n",
       "      <td>https://cloud.ibm.com/avatar/v1/avatar/migrate-bluemix-photos-production/d840b43e-2afb-4b81-a698-7d93dffeecbc.jpg</td>\n",
       "      <td>fcb2ad051f2c0819da9b2c9596977a14</td>\n",
       "      <td>2023-11-20T08:33:21Z</td>\n",
       "    </tr>\n",
       "    <tr>\n",
       "      <th>1</th>\n",
       "      <td>9aea43626a5a23c912d7bef71fb5e884</td>\n",
       "      <td>IBMid-503E85GQTC</td>\n",
       "      <td>IBMid</td>\n",
       "      <td>torsten@steinbachnet.de</td>\n",
       "      <td>Torsten</td>\n",
       "      <td>Steinbach</td>\n",
       "      <td>ACTIVE</td>\n",
       "      <td></td>\n",
       "      <td>torsten@steinbachnet.de</td>\n",
       "      <td>1234567890</td>\n",
       "      <td></td>\n",
       "      <td>https://cloud.ibm.com/avatar/v1/avatar/migrate-bluemix-photos-production/a529984f-95d9-44a4-887c-5dc23da41af5.jpg</td>\n",
       "      <td>fcb2ad051f2c0819da9b2c9596977a14</td>\n",
       "      <td>2018-01-25T08:18:08.165Z</td>\n",
       "    </tr>\n",
       "  </tbody>\n",
       "</table>\n",
       "</div>"
      ],
      "text/plain": [
       "                                 id            iam_id  realm  \\\n",
       "0  1cc3d91813972d6327bd2cf403595979  IBMid-120000ETQ5  IBMid   \n",
       "1  9aea43626a5a23c912d7bef71fb5e884  IBMid-503E85GQTC  IBMid   \n",
       "\n",
       "                   user_id firstname   lastname   state sub_state  \\\n",
       "0       torsten@de.ibm.com   Torsten  Steinbach  ACTIVE             \n",
       "1  torsten@steinbachnet.de   Torsten  Steinbach  ACTIVE             \n",
       "\n",
       "                     email      phonenumber altphonenumber  \\\n",
       "0       torsten@de.ibm.com  49-7031-16-4686                  \n",
       "1  torsten@steinbachnet.de       1234567890                  \n",
       "\n",
       "                                                                                                               photo  \\\n",
       "0  https://cloud.ibm.com/avatar/v1/avatar/migrate-bluemix-photos-production/d840b43e-2afb-4b81-a698-7d93dffeecbc.jpg   \n",
       "1  https://cloud.ibm.com/avatar/v1/avatar/migrate-bluemix-photos-production/a529984f-95d9-44a4-887c-5dc23da41af5.jpg   \n",
       "\n",
       "                         account_id                  added_on  \n",
       "0  fcb2ad051f2c0819da9b2c9596977a14      2023-11-20T08:33:21Z  \n",
       "1  fcb2ad051f2c0819da9b2c9596977a14  2018-01-25T08:18:08.165Z  "
      ]
     },
     "execution_count": 111,
     "metadata": {},
     "output_type": "execute_result"
    }
   ],
   "source": [
    "cosaccess.get_users()"
   ]
  },
  {
   "cell_type": "markdown",
   "metadata": {},
   "source": [
    "Retrieve the IAM ID for a user name:"
   ]
  },
  {
   "cell_type": "code",
   "execution_count": 12,
   "metadata": {},
   "outputs": [
    {
     "data": {
      "text/plain": [
       "'IBMid-120000ETQ5'"
      ]
     },
     "execution_count": 12,
     "metadata": {},
     "output_type": "execute_result"
    }
   ],
   "source": [
    "cosaccess.get_user_iam_id(\"torsten@de.ibm.com\")"
   ]
  },
  {
   "cell_type": "markdown",
   "metadata": {},
   "source": [
    "Retrieve the user name for an IAM ID:"
   ]
  },
  {
   "cell_type": "code",
   "execution_count": 13,
   "metadata": {},
   "outputs": [
    {
     "data": {
      "text/plain": [
       "'Torsten Steinbach torsten@de.ibm.com'"
      ]
     },
     "execution_count": 13,
     "metadata": {},
     "output_type": "execute_result"
    }
   ],
   "source": [
    "cosaccess.get_user_name(iam_id='IBMid-120000ETQ5')"
   ]
  },
  {
   "cell_type": "markdown",
   "metadata": {},
   "source": [
    "#### <a id=\"service_id_helpers\"></a> Service IDs\n",
    "Get a table with all service IDs and their details in your account:"
   ]
  },
  {
   "cell_type": "code",
   "execution_count": 14,
   "metadata": {},
   "outputs": [
    {
     "data": {
      "text/html": [
       "<div>\n",
       "<style scoped>\n",
       "    .dataframe tbody tr th:only-of-type {\n",
       "        vertical-align: middle;\n",
       "    }\n",
       "\n",
       "    .dataframe tbody tr th {\n",
       "        vertical-align: top;\n",
       "    }\n",
       "\n",
       "    .dataframe thead th {\n",
       "        text-align: right;\n",
       "    }\n",
       "</style>\n",
       "<table border=\"1\" class=\"dataframe\">\n",
       "  <thead>\n",
       "    <tr style=\"text-align: right;\">\n",
       "      <th></th>\n",
       "      <th>id</th>\n",
       "      <th>iam_id</th>\n",
       "      <th>entity_tag</th>\n",
       "      <th>crn</th>\n",
       "      <th>locked</th>\n",
       "      <th>created_at</th>\n",
       "      <th>created_by</th>\n",
       "      <th>modified_at</th>\n",
       "      <th>account_id</th>\n",
       "      <th>name</th>\n",
       "      <th>description</th>\n",
       "      <th>unique_instance_crns</th>\n",
       "    </tr>\n",
       "  </thead>\n",
       "  <tbody>\n",
       "    <tr>\n",
       "      <th>0</th>\n",
       "      <td>ServiceId-b8e19a3c-d1fc-493a-ac1f-e7fbad148e0e</td>\n",
       "      <td>iam-ServiceId-b8e19a3c-d1fc-493a-ac1f-e7fbad148e0e</td>\n",
       "      <td>1-8320c262d3a390bfbdec644c0ef306b3</td>\n",
       "      <td>crn:v1:bluemix:public:iam-identity::a/fcb2ad051f2c0819da9b2c9596977a14::serviceid:ServiceId-b8e19a3c-d1fc-493a-ac1f-e7fbad148e0e</td>\n",
       "      <td>False</td>\n",
       "      <td>2023-11-20T08:36+0000</td>\n",
       "      <td>IBMid-503E85GQTC</td>\n",
       "      <td>2023-11-20T08:36+0000</td>\n",
       "      <td>fcb2ad051f2c0819da9b2c9596977a14</td>\n",
       "      <td>Plumpf Service ID</td>\n",
       "      <td></td>\n",
       "      <td>[]</td>\n",
       "    </tr>\n",
       "  </tbody>\n",
       "</table>\n",
       "</div>"
      ],
      "text/plain": [
       "                                               id  \\\n",
       "0  ServiceId-b8e19a3c-d1fc-493a-ac1f-e7fbad148e0e   \n",
       "\n",
       "                                               iam_id  \\\n",
       "0  iam-ServiceId-b8e19a3c-d1fc-493a-ac1f-e7fbad148e0e   \n",
       "\n",
       "                           entity_tag  \\\n",
       "0  1-8320c262d3a390bfbdec644c0ef306b3   \n",
       "\n",
       "                                                                                                                                crn  \\\n",
       "0  crn:v1:bluemix:public:iam-identity::a/fcb2ad051f2c0819da9b2c9596977a14::serviceid:ServiceId-b8e19a3c-d1fc-493a-ac1f-e7fbad148e0e   \n",
       "\n",
       "   locked             created_at        created_by            modified_at  \\\n",
       "0   False  2023-11-20T08:36+0000  IBMid-503E85GQTC  2023-11-20T08:36+0000   \n",
       "\n",
       "                         account_id               name description  \\\n",
       "0  fcb2ad051f2c0819da9b2c9596977a14  Plumpf Service ID               \n",
       "\n",
       "  unique_instance_crns  \n",
       "0                   []  "
      ]
     },
     "execution_count": 14,
     "metadata": {},
     "output_type": "execute_result"
    }
   ],
   "source": [
    "cosaccess.get_service_ids()"
   ]
  },
  {
   "cell_type": "markdown",
   "metadata": {},
   "source": [
    "Retrieve the service ID name for an IAM ID:"
   ]
  },
  {
   "cell_type": "code",
   "execution_count": 10,
   "metadata": {
    "scrolled": true
   },
   "outputs": [
    {
     "data": {
      "text/plain": [
       "'Plumpf Service ID'"
      ]
     },
     "execution_count": 10,
     "metadata": {},
     "output_type": "execute_result"
    }
   ],
   "source": [
    "cosaccess.get_service_id_name(iam_id='iam-ServiceId-b8e19a3c-d1fc-493a-ac1f-e7fbad148e0e')"
   ]
  },
  {
   "cell_type": "markdown",
   "metadata": {},
   "source": [
    "Retrieve the IAM ID for a service ID name:"
   ]
  },
  {
   "cell_type": "code",
   "execution_count": 20,
   "metadata": {},
   "outputs": [
    {
     "data": {
      "text/plain": [
       "'iam-ServiceId-b8e19a3c-d1fc-493a-ac1f-e7fbad148e0e'"
      ]
     },
     "execution_count": 20,
     "metadata": {},
     "output_type": "execute_result"
    }
   ],
   "source": [
    "cosaccess.get_service_id_iam_id('Plumpf Service ID')"
   ]
  },
  {
   "cell_type": "markdown",
   "metadata": {},
   "source": [
    "Retrieve all detail attributes of a service ID:"
   ]
  },
  {
   "cell_type": "code",
   "execution_count": 21,
   "metadata": {},
   "outputs": [
    {
     "data": {
      "text/plain": [
       "{'id': 'ServiceId-b8e19a3c-d1fc-493a-ac1f-e7fbad148e0e',\n",
       " 'iam_id': 'iam-ServiceId-b8e19a3c-d1fc-493a-ac1f-e7fbad148e0e',\n",
       " 'entity_tag': '1-8320c262d3a390bfbdec644c0ef306b3',\n",
       " 'crn': 'crn:v1:bluemix:public:iam-identity::a/fcb2ad051f2c0819da9b2c9596977a14::serviceid:ServiceId-b8e19a3c-d1fc-493a-ac1f-e7fbad148e0e',\n",
       " 'locked': False,\n",
       " 'created_at': '2023-11-20T08:36+0000',\n",
       " 'created_by': 'IBMid-503E85GQTC',\n",
       " 'modified_at': '2023-11-20T08:36+0000',\n",
       " 'account_id': 'fcb2ad051f2c0819da9b2c9596977a14',\n",
       " 'name': 'Plumpf Service ID',\n",
       " 'description': '',\n",
       " 'unique_instance_crns': [],\n",
       " 'Etag': '1-8320c262d3a390bfbdec644c0ef306b3'}"
      ]
     },
     "execution_count": 21,
     "metadata": {},
     "output_type": "execute_result"
    }
   ],
   "source": [
    "cosaccess.get_service_id_details(service_id_name='Plumpf Service ID')"
   ]
  },
  {
   "cell_type": "markdown",
   "metadata": {},
   "source": [
    "Creating and deleting service IDs:"
   ]
  },
  {
   "cell_type": "code",
   "execution_count": 24,
   "metadata": {},
   "outputs": [
    {
     "name": "stdout",
     "output_type": "stream",
     "text": [
      "Created service ID \"ServiceId-29909fd3-a924-4235-8eb9-5a9f1fadb343\" with name \"Temp Service ID\" and API Key \"61cAPJhJ2hTRfNJTyJHdC3ciUWDiI3j1Gf6Icuhd2lKM\".\n",
      "Deleted service ID \"ServiceId-29909fd3-a924-4235-8eb9-5a9f1fadb343\".\n"
     ]
    }
   ],
   "source": [
    "temp_service_id = cosaccess.create_service_id(service_id_name='Temp Service ID', with_apikey=True)\n",
    "print(\"Created service ID \\\"{}\\\" with name \\\"{}\\\" and API Key \\\"{}\\\".\"\n",
    "      .format(temp_service_id[\"id\"], temp_service_id[\"name\"], temp_service_id[\"apikey\"][\"apikey\"]))\n",
    "cosaccess.delete_service_id(service_id_name='Temp Service ID')\n",
    "print(\"Deleted service ID \\\"{}\\\".\".format(temp_service_id[\"id\"]))"
   ]
  },
  {
   "cell_type": "markdown",
   "metadata": {},
   "source": [
    "#### <a id=\"access_group_helpers\"></a> Access Groups\n",
    "Get a table with all access groups and their details in your account:"
   ]
  },
  {
   "cell_type": "code",
   "execution_count": 12,
   "metadata": {},
   "outputs": [
    {
     "data": {
      "text/html": [
       "<div>\n",
       "<style scoped>\n",
       "    .dataframe tbody tr th:only-of-type {\n",
       "        vertical-align: middle;\n",
       "    }\n",
       "\n",
       "    .dataframe tbody tr th {\n",
       "        vertical-align: top;\n",
       "    }\n",
       "\n",
       "    .dataframe thead th {\n",
       "        text-align: right;\n",
       "    }\n",
       "</style>\n",
       "<table border=\"1\" class=\"dataframe\">\n",
       "  <thead>\n",
       "    <tr style=\"text-align: right;\">\n",
       "      <th></th>\n",
       "      <th>id</th>\n",
       "      <th>name</th>\n",
       "      <th>description</th>\n",
       "      <th>created_at</th>\n",
       "      <th>created_by_id</th>\n",
       "      <th>last_modified_at</th>\n",
       "      <th>last_modified_by_id</th>\n",
       "      <th>href</th>\n",
       "    </tr>\n",
       "  </thead>\n",
       "  <tbody>\n",
       "    <tr>\n",
       "      <th>0</th>\n",
       "      <td>AccessGroupId-fe28f512-17fe-45d1-b43c-466ab22d31eb</td>\n",
       "      <td>customer_analysts</td>\n",
       "      <td></td>\n",
       "      <td>2023-11-20T08:31:49Z</td>\n",
       "      <td>IBMid-503E85GQTC</td>\n",
       "      <td>2023-11-20T08:31:49Z</td>\n",
       "      <td>IBMid-503E85GQTC</td>\n",
       "      <td>https://iam.cloud.ibm.com/v2/groups/AccessGroupId-fe28f512-17fe-45d1-b43c-466ab22d31eb</td>\n",
       "    </tr>\n",
       "    <tr>\n",
       "      <th>1</th>\n",
       "      <td>AccessGroupId-19244424-aadf-4287-95d2-e6ce88fc9fc0</td>\n",
       "      <td>DBAs</td>\n",
       "      <td></td>\n",
       "      <td>2023-11-20T08:32:12Z</td>\n",
       "      <td>IBMid-503E85GQTC</td>\n",
       "      <td>2023-11-20T08:32:12Z</td>\n",
       "      <td>IBMid-503E85GQTC</td>\n",
       "      <td>https://iam.cloud.ibm.com/v2/groups/AccessGroupId-19244424-aadf-4287-95d2-e6ce88fc9fc0</td>\n",
       "    </tr>\n",
       "    <tr>\n",
       "      <th>2</th>\n",
       "      <td>AccessGroupId-13cd5002-30d7-4e9b-aa84-44bcc09f22bf</td>\n",
       "      <td>marketing_fulfillment</td>\n",
       "      <td></td>\n",
       "      <td>2023-11-20T08:32:03Z</td>\n",
       "      <td>IBMid-503E85GQTC</td>\n",
       "      <td>2023-11-20T08:32:03Z</td>\n",
       "      <td>IBMid-503E85GQTC</td>\n",
       "      <td>https://iam.cloud.ibm.com/v2/groups/AccessGroupId-13cd5002-30d7-4e9b-aa84-44bcc09f22bf</td>\n",
       "    </tr>\n",
       "    <tr>\n",
       "      <th>3</th>\n",
       "      <td>AccessGroupId-8ae914fd-007e-401d-8692-3bdf3735d23a</td>\n",
       "      <td>portfolio_managers</td>\n",
       "      <td></td>\n",
       "      <td>2023-11-20T08:31:31Z</td>\n",
       "      <td>IBMid-503E85GQTC</td>\n",
       "      <td>2023-11-20T08:31:31Z</td>\n",
       "      <td>IBMid-503E85GQTC</td>\n",
       "      <td>https://iam.cloud.ibm.com/v2/groups/AccessGroupId-8ae914fd-007e-401d-8692-3bdf3735d23a</td>\n",
       "    </tr>\n",
       "    <tr>\n",
       "      <th>4</th>\n",
       "      <td>AccessGroupId-PublicAccess</td>\n",
       "      <td>Public Access</td>\n",
       "      <td>This group includes all users and service IDs by default. All group members, including unauthenticated users, are given public access to any resources that are defined in the policies for the group.</td>\n",
       "      <td>2019-02-23T12:00:00Z</td>\n",
       "      <td>iam-ServiceId-bf540d3e-02b4-4c74-9b00-267936f4c009</td>\n",
       "      <td></td>\n",
       "      <td></td>\n",
       "      <td>https://iam.cloud.ibm.com/v2/groups/AccessGroupId-PublicAccess</td>\n",
       "    </tr>\n",
       "  </tbody>\n",
       "</table>\n",
       "</div>"
      ],
      "text/plain": [
       "                                                   id                   name  \\\n",
       "0  AccessGroupId-fe28f512-17fe-45d1-b43c-466ab22d31eb      customer_analysts   \n",
       "1  AccessGroupId-19244424-aadf-4287-95d2-e6ce88fc9fc0                   DBAs   \n",
       "2  AccessGroupId-13cd5002-30d7-4e9b-aa84-44bcc09f22bf  marketing_fulfillment   \n",
       "3  AccessGroupId-8ae914fd-007e-401d-8692-3bdf3735d23a     portfolio_managers   \n",
       "4                          AccessGroupId-PublicAccess          Public Access   \n",
       "\n",
       "                                                                                                                                                                                              description  \\\n",
       "0                                                                                                                                                                                                           \n",
       "1                                                                                                                                                                                                           \n",
       "2                                                                                                                                                                                                           \n",
       "3                                                                                                                                                                                                           \n",
       "4  This group includes all users and service IDs by default. All group members, including unauthenticated users, are given public access to any resources that are defined in the policies for the group.   \n",
       "\n",
       "             created_at                                       created_by_id  \\\n",
       "0  2023-11-20T08:31:49Z                                    IBMid-503E85GQTC   \n",
       "1  2023-11-20T08:32:12Z                                    IBMid-503E85GQTC   \n",
       "2  2023-11-20T08:32:03Z                                    IBMid-503E85GQTC   \n",
       "3  2023-11-20T08:31:31Z                                    IBMid-503E85GQTC   \n",
       "4  2019-02-23T12:00:00Z  iam-ServiceId-bf540d3e-02b4-4c74-9b00-267936f4c009   \n",
       "\n",
       "       last_modified_at last_modified_by_id  \\\n",
       "0  2023-11-20T08:31:49Z    IBMid-503E85GQTC   \n",
       "1  2023-11-20T08:32:12Z    IBMid-503E85GQTC   \n",
       "2  2023-11-20T08:32:03Z    IBMid-503E85GQTC   \n",
       "3  2023-11-20T08:31:31Z    IBMid-503E85GQTC   \n",
       "4                                             \n",
       "\n",
       "                                                                                     href  \n",
       "0  https://iam.cloud.ibm.com/v2/groups/AccessGroupId-fe28f512-17fe-45d1-b43c-466ab22d31eb  \n",
       "1  https://iam.cloud.ibm.com/v2/groups/AccessGroupId-19244424-aadf-4287-95d2-e6ce88fc9fc0  \n",
       "2  https://iam.cloud.ibm.com/v2/groups/AccessGroupId-13cd5002-30d7-4e9b-aa84-44bcc09f22bf  \n",
       "3  https://iam.cloud.ibm.com/v2/groups/AccessGroupId-8ae914fd-007e-401d-8692-3bdf3735d23a  \n",
       "4                          https://iam.cloud.ibm.com/v2/groups/AccessGroupId-PublicAccess  "
      ]
     },
     "execution_count": 12,
     "metadata": {},
     "output_type": "execute_result"
    }
   ],
   "source": [
    "cosaccess.get_access_groups()"
   ]
  },
  {
   "cell_type": "markdown",
   "metadata": {},
   "source": [
    "Retrieve the access group name for an access group ID:"
   ]
  },
  {
   "cell_type": "code",
   "execution_count": 15,
   "metadata": {},
   "outputs": [
    {
     "data": {
      "text/plain": [
       "'portfolio_managers'"
      ]
     },
     "execution_count": 15,
     "metadata": {},
     "output_type": "execute_result"
    }
   ],
   "source": [
    "cosaccess.get_access_group_name(access_group_id=\"AccessGroupId-8ae914fd-007e-401d-8692-3bdf3735d23a\")"
   ]
  },
  {
   "cell_type": "markdown",
   "metadata": {},
   "source": [
    "Retrieve the ID for an access group name:"
   ]
  },
  {
   "cell_type": "code",
   "execution_count": 16,
   "metadata": {},
   "outputs": [
    {
     "data": {
      "text/plain": [
       "'AccessGroupId-8ae914fd-007e-401d-8692-3bdf3735d23a'"
      ]
     },
     "execution_count": 16,
     "metadata": {},
     "output_type": "execute_result"
    }
   ],
   "source": [
    "cosaccess.get_access_group_id(access_group=\"portfolio_managers\")"
   ]
  },
  {
   "cell_type": "markdown",
   "metadata": {},
   "source": [
    "Show access group members:"
   ]
  },
  {
   "cell_type": "code",
   "execution_count": 27,
   "metadata": {},
   "outputs": [
    {
     "data": {
      "text/html": [
       "<div>\n",
       "<style scoped>\n",
       "    .dataframe tbody tr th:only-of-type {\n",
       "        vertical-align: middle;\n",
       "    }\n",
       "\n",
       "    .dataframe tbody tr th {\n",
       "        vertical-align: top;\n",
       "    }\n",
       "\n",
       "    .dataframe thead th {\n",
       "        text-align: right;\n",
       "    }\n",
       "</style>\n",
       "<table border=\"1\" class=\"dataframe\">\n",
       "  <thead>\n",
       "    <tr style=\"text-align: right;\">\n",
       "      <th></th>\n",
       "      <th>iam_id</th>\n",
       "      <th>type</th>\n",
       "      <th>membership_type</th>\n",
       "      <th>href</th>\n",
       "      <th>created_at</th>\n",
       "      <th>created_by_id</th>\n",
       "      <th>service_id_name</th>\n",
       "      <th>user_name</th>\n",
       "    </tr>\n",
       "  </thead>\n",
       "  <tbody>\n",
       "    <tr>\n",
       "      <th>0</th>\n",
       "      <td>iam-ServiceId-b8e19a3c-d1fc-493a-ac1f-e7fbad148e0e</td>\n",
       "      <td>service</td>\n",
       "      <td>static</td>\n",
       "      <td>https://iam.cloud.ibm.com/v2/groups/AccessGroupId-8ae914fd-007e-401d-8692-3bdf3735d23a/members/iam-ServiceId-b8e19a3c-d1fc-493a-ac1f-e7fbad148e0e</td>\n",
       "      <td>2023-11-20T08:37:16Z</td>\n",
       "      <td>IBMid-503E85GQTC</td>\n",
       "      <td>Plumpf Service ID</td>\n",
       "      <td></td>\n",
       "    </tr>\n",
       "  </tbody>\n",
       "</table>\n",
       "</div>"
      ],
      "text/plain": [
       "                                               iam_id     type  \\\n",
       "0  iam-ServiceId-b8e19a3c-d1fc-493a-ac1f-e7fbad148e0e  service   \n",
       "\n",
       "  membership_type  \\\n",
       "0          static   \n",
       "\n",
       "                                                                                                                                                href  \\\n",
       "0  https://iam.cloud.ibm.com/v2/groups/AccessGroupId-8ae914fd-007e-401d-8692-3bdf3735d23a/members/iam-ServiceId-b8e19a3c-d1fc-493a-ac1f-e7fbad148e0e   \n",
       "\n",
       "             created_at     created_by_id    service_id_name user_name  \n",
       "0  2023-11-20T08:37:16Z  IBMid-503E85GQTC  Plumpf Service ID            "
      ]
     },
     "execution_count": 27,
     "metadata": {},
     "output_type": "execute_result"
    }
   ],
   "source": [
    "cosaccess.get_access_group_members(access_group_name=\"portfolio_managers\")"
   ]
  },
  {
   "cell_type": "markdown",
   "metadata": {},
   "source": [
    "Creating and deleting access groups:"
   ]
  },
  {
   "cell_type": "code",
   "execution_count": 6,
   "metadata": {},
   "outputs": [
    {
     "name": "stdout",
     "output_type": "stream",
     "text": [
      "Created Access Group' \"Temp Access Group\" with id \"AccessGroupId-cbfc346b-ff85-46f6-bea2-a148b1630448\".\n",
      "Deleted service ID \"AccessGroupId-cbfc346b-ff85-46f6-bea2-a148b1630448\".\n"
     ]
    }
   ],
   "source": [
    "temp_access_group_name = \"Temp Access Group\"\n",
    "temp_access_group_id = cosaccess.create_access_group(access_group_name=temp_access_group_name)\n",
    "print(\"Created Access Group' \\\"{}\\\" with id \\\"{}\\\".\"\n",
    "      .format(temp_access_group_name, temp_access_group_id))\n",
    "cosaccess.delete_access_group(access_group_name=temp_access_group_name, force=True)\n",
    "print(\"Deleted service ID \\\"{}\\\".\".format(temp_access_group_id))"
   ]
  },
  {
   "cell_type": "markdown",
   "metadata": {},
   "source": [
    "### <a id=\"cos_helpers\"></a> General COS Helpers"
   ]
  },
  {
   "cell_type": "markdown",
   "metadata": {},
   "source": [
    "Create an empty object (similar to `touch` shell command), show it in an object listing and then delete it again:"
   ]
  },
  {
   "cell_type": "code",
   "execution_count": 14,
   "metadata": {},
   "outputs": [],
   "source": [
    "cosaccess.touch_cos_object(cos_bucket=bucket, object_path=\"test_data/test_object\")"
   ]
  },
  {
   "cell_type": "code",
   "execution_count": 15,
   "metadata": {},
   "outputs": [
    {
     "data": {
      "text/html": [
       "<div>\n",
       "<style scoped>\n",
       "    .dataframe tbody tr th:only-of-type {\n",
       "        vertical-align: middle;\n",
       "    }\n",
       "\n",
       "    .dataframe tbody tr th {\n",
       "        vertical-align: top;\n",
       "    }\n",
       "\n",
       "    .dataframe thead th {\n",
       "        text-align: right;\n",
       "    }\n",
       "</style>\n",
       "<table border=\"1\" class=\"dataframe\">\n",
       "  <thead>\n",
       "    <tr style=\"text-align: right;\">\n",
       "      <th></th>\n",
       "      <th>name</th>\n",
       "      <th>last_modified</th>\n",
       "      <th>owner</th>\n",
       "      <th>size</th>\n",
       "    </tr>\n",
       "  </thead>\n",
       "  <tbody>\n",
       "    <tr>\n",
       "      <th>0</th>\n",
       "      <td>test_data/test_object</td>\n",
       "      <td>2023-11-23 10:14:02.512000+00:00</td>\n",
       "      <td>{'DisplayName': '0ca7988d-6cb0-4ccf-85e3-9d7af75d5e0d', 'ID': '0ca7988d-6cb0-4ccf-85e3-9d7af75d5e0d'}</td>\n",
       "      <td>0</td>\n",
       "    </tr>\n",
       "  </tbody>\n",
       "</table>\n",
       "</div>"
      ],
      "text/plain": [
       "                    name                    last_modified  \\\n",
       "0  test_data/test_object 2023-11-23 10:14:02.512000+00:00   \n",
       "\n",
       "                                                                                                   owner  \\\n",
       "0  {'DisplayName': '0ca7988d-6cb0-4ccf-85e3-9d7af75d5e0d', 'ID': '0ca7988d-6cb0-4ccf-85e3-9d7af75d5e0d'}   \n",
       "\n",
       "   size  \n",
       "0     0  "
      ]
     },
     "execution_count": 15,
     "metadata": {},
     "output_type": "execute_result"
    }
   ],
   "source": [
    "cosaccess.get_cos_objects(cos_bucket=bucket, prefix=\"test_data\")"
   ]
  },
  {
   "cell_type": "code",
   "execution_count": 16,
   "metadata": {},
   "outputs": [],
   "source": [
    "cosaccess.delete_cos_object(cos_bucket=bucket, object_path=\"test_data/test_object\")"
   ]
  },
  {
   "cell_type": "markdown",
   "metadata": {},
   "source": [
    "Get the instance ID and CRN for a COS bucket:"
   ]
  },
  {
   "cell_type": "code",
   "execution_count": 10,
   "metadata": {},
   "outputs": [
    {
     "data": {
      "text/plain": [
       "'0ca7988d-6cb0-4ccf-85e3-9d7af75d5e0d'"
      ]
     },
     "execution_count": 10,
     "metadata": {},
     "output_type": "execute_result"
    }
   ],
   "source": [
    "cosaccess.get_cos_instance_id(bucket)"
   ]
  },
  {
   "cell_type": "code",
   "execution_count": 11,
   "metadata": {},
   "outputs": [
    {
     "data": {
      "text/plain": [
       "'crn:v1:bluemix:public:cloud-object-storage:global:a/fcb2ad051f2c0819da9b2c9596977a14:0ca7988d-6cb0-4ccf-85e3-9d7af75d5e0d::'"
      ]
     },
     "execution_count": 11,
     "metadata": {},
     "output_type": "execute_result"
    }
   ],
   "source": [
    "cosaccess.get_cos_instance_crn(bucket)"
   ]
  },
  {
   "cell_type": "markdown",
   "metadata": {},
   "source": [
    "Get the endpoint for a COS bucket:"
   ]
  },
  {
   "cell_type": "code",
   "execution_count": 9,
   "metadata": {},
   "outputs": [
    {
     "data": {
      "text/plain": [
       "'https://s3.us-south.cloud-object-storage.appdomain.cloud'"
      ]
     },
     "execution_count": 9,
     "metadata": {},
     "output_type": "execute_result"
    }
   ],
   "source": [
    "cosaccess.get_cos_endpoint(bucket)"
   ]
  },
  {
   "cell_type": "markdown",
   "metadata": {},
   "source": [
    "List all supported COS endpoints in IBM Cloud:"
   ]
  },
  {
   "cell_type": "code",
   "execution_count": 8,
   "metadata": {
    "scrolled": true
   },
   "outputs": [
    {
     "data": {
      "text/plain": [
       "{'cross-region': {'us': {'public': {'us-geo': 's3.us.cloud-object-storage.appdomain.cloud',\n",
       "    'Dallas': 's3.dal.us.cloud-object-storage.appdomain.cloud',\n",
       "    'Washington': 's3.wdc.us.cloud-object-storage.appdomain.cloud',\n",
       "    'San Jose': 's3.sjc.us.cloud-object-storage.appdomain.cloud'},\n",
       "   'private': {'us-geo': 's3.private.us.cloud-object-storage.appdomain.cloud',\n",
       "    'Dallas': 's3.private.dal.us.cloud-object-storage.appdomain.cloud',\n",
       "    'Washington': 's3.private.wdc.us.cloud-object-storage.appdomain.cloud',\n",
       "    'San Jose': 's3.private.sjc.us.cloud-object-storage.appdomain.cloud'},\n",
       "   'direct': {'us-geo': 's3.direct.us.cloud-object-storage.appdomain.cloud',\n",
       "    'Dallas': 's3.direct.dal.us.cloud-object-storage.appdomain.cloud',\n",
       "    'Washington': 's3.direct.wdc.us.cloud-object-storage.appdomain.cloud',\n",
       "    'San Jose': 's3.direct.sjc.us.cloud-object-storage.appdomain.cloud'}},\n",
       "  'eu': {'public': {'eu-geo': 's3.eu.cloud-object-storage.appdomain.cloud',\n",
       "    'Amsterdam': 's3.ams.eu.cloud-object-storage.appdomain.cloud',\n",
       "    'Frankfurt': 's3.fra.eu.cloud-object-storage.appdomain.cloud',\n",
       "    'Milan': 's3.mil.eu.cloud-object-storage.appdomain.cloud'},\n",
       "   'private': {'eu-geo': 's3.private.eu.cloud-object-storage.appdomain.cloud',\n",
       "    'Amsterdam': 's3.private.ams.eu.cloud-object-storage.appdomain.cloud',\n",
       "    'Frankfurt': 's3.private.fra.eu.cloud-object-storage.appdomain.cloud',\n",
       "    'Milan': 's3.private.mil.eu.cloud-object-storage.appdomain.cloud'},\n",
       "   'direct': {'eu-geo': 's3.direct.eu.cloud-object-storage.appdomain.cloud',\n",
       "    'Amsterdam': 's3.direct.ams.eu.cloud-object-storage.appdomain.cloud',\n",
       "    'Frankfurt': 's3.direct.fra.eu.cloud-object-storage.appdomain.cloud',\n",
       "    'Milan': 's3.direct.mil.eu.cloud-object-storage.appdomain.cloud'}},\n",
       "  'ap': {'public': {'ap-geo': 's3.ap.cloud-object-storage.appdomain.cloud',\n",
       "    'Tokyo': 's3.tok.ap.cloud-object-storage.appdomain.cloud',\n",
       "    'Sydney': 's3.syd.ap.cloud-object-storage.appdomain.cloud',\n",
       "    'Osaka': 's3.osa.ap.cloud-object-storage.appdomain.cloud'},\n",
       "   'private': {'ap-geo': 's3.private.ap.cloud-object-storage.appdomain.cloud',\n",
       "    'Tokyo': 's3.private.tok.ap.cloud-object-storage.appdomain.cloud',\n",
       "    'Sydney': 's3.private.syd.ap.cloud-object-storage.appdomain.cloud',\n",
       "    'Osaka': 's3.private.osa.ap.cloud-object-storage.appdomain.cloud'},\n",
       "   'direct': {'ap-geo': 's3.direct.ap.cloud-object-storage.appdomain.cloud',\n",
       "    'Tokyo': 's3.direct.tok.ap.cloud-object-storage.appdomain.cloud',\n",
       "    'Sydney': 's3.direct.syd.ap.cloud-object-storage.appdomain.cloud',\n",
       "    'Osaka': 's3.direct.osa.ap.cloud-object-storage.appdomain.cloud'}}},\n",
       " 'regional': {'us-south': {'public': {'us-south': 's3.us-south.cloud-object-storage.appdomain.cloud'},\n",
       "   'private': {'us-south': 's3.private.us-south.cloud-object-storage.appdomain.cloud'},\n",
       "   'direct': {'us-south': 's3.direct.us-south.cloud-object-storage.appdomain.cloud'}},\n",
       "  'us-east': {'public': {'us-east': 's3.us-east.cloud-object-storage.appdomain.cloud'},\n",
       "   'private': {'us-east': 's3.private.us-east.cloud-object-storage.appdomain.cloud'},\n",
       "   'direct': {'us-east': 's3.direct.us-east.cloud-object-storage.appdomain.cloud'}},\n",
       "  'eu-gb': {'public': {'eu-gb': 's3.eu-gb.cloud-object-storage.appdomain.cloud'},\n",
       "   'private': {'eu-gb': 's3.private.eu-gb.cloud-object-storage.appdomain.cloud'},\n",
       "   'direct': {'eu-gb': 's3.direct.eu-gb.cloud-object-storage.appdomain.cloud'}},\n",
       "  'eu-de': {'public': {'eu-de': 's3.eu-de.cloud-object-storage.appdomain.cloud'},\n",
       "   'private': {'eu-de': 's3.private.eu-de.cloud-object-storage.appdomain.cloud'},\n",
       "   'direct': {'eu-de': 's3.direct.eu-de.cloud-object-storage.appdomain.cloud'}},\n",
       "  'eu-es': {'public': {'eu-es': 's3.eu-es.cloud-object-storage.appdomain.cloud'},\n",
       "   'private': {'eu-es': 's3.private.eu-es.cloud-object-storage.appdomain.cloud'},\n",
       "   'direct': {'eu-es': 's3.direct.eu-es.cloud-object-storage.appdomain.cloud'}},\n",
       "  'jp-tok': {'public': {'jp-tok': 's3.jp-tok.cloud-object-storage.appdomain.cloud'},\n",
       "   'private': {'jp-tok': 's3.private.jp-tok.cloud-object-storage.appdomain.cloud'},\n",
       "   'direct': {'jp-tok': 's3.direct.jp-tok.cloud-object-storage.appdomain.cloud'}},\n",
       "  'jp-osa': {'public': {'jp-osa': 's3.jp-osa.cloud-object-storage.appdomain.cloud'},\n",
       "   'private': {'jp-osa': 's3.private.jp-osa.cloud-object-storage.appdomain.cloud'},\n",
       "   'direct': {'jp-osa': 's3.direct.jp-osa.cloud-object-storage.appdomain.cloud'}},\n",
       "  'au-syd': {'public': {'au-syd': 's3.au-syd.cloud-object-storage.appdomain.cloud'},\n",
       "   'private': {'au-syd': 's3.private.au-syd.cloud-object-storage.appdomain.cloud'},\n",
       "   'direct': {'au-syd': 's3.direct.au-syd.cloud-object-storage.appdomain.cloud'}},\n",
       "  'ca-tor': {'public': {'ca-tor': 's3.ca-tor.cloud-object-storage.appdomain.cloud'},\n",
       "   'private': {'ca-tor': 's3.private.ca-tor.cloud-object-storage.appdomain.cloud'},\n",
       "   'direct': {'ca-tor': 's3.direct.ca-tor.cloud-object-storage.appdomain.cloud'}},\n",
       "  'br-sao': {'public': {'br-sao': 's3.br-sao.cloud-object-storage.appdomain.cloud'},\n",
       "   'private': {'br-sao': 's3.private.br-sao.cloud-object-storage.appdomain.cloud'},\n",
       "   'direct': {'br-sao': 's3.direct.br-sao.cloud-object-storage.appdomain.cloud'}}},\n",
       " 'single-site': {'ams03': {'public': {'ams03': 's3.ams03.cloud-object-storage.appdomain.cloud'},\n",
       "   'private': {'ams03': 's3.private.ams03.cloud-object-storage.appdomain.cloud'},\n",
       "   'direct': {'ams03': 's3.direct.ams03.cloud-object-storage.appdomain.cloud'}},\n",
       "  'che01': {'public': {'che01': 's3.che01.cloud-object-storage.appdomain.cloud'},\n",
       "   'private': {'che01': 's3.private.che01.cloud-object-storage.appdomain.cloud'},\n",
       "   'direct': {'che01': 's3.direct.che01.cloud-object-storage.appdomain.cloud'}},\n",
       "  'mon01': {'public': {'mon01': 's3.mon01.cloud-object-storage.appdomain.cloud'},\n",
       "   'private': {'mon01': 's3.private.mon01.cloud-object-storage.appdomain.cloud'},\n",
       "   'direct': {'mon01': 's3.direct.mon01.cloud-object-storage.appdomain.cloud'}},\n",
       "  'sjc04': {'public': {'sjc04': 's3.sjc04.cloud-object-storage.appdomain.cloud'},\n",
       "   'private': {'sjc04': 's3.private.sjc04.cloud-object-storage.appdomain.cloud'},\n",
       "   'direct': {'sjc04': 's3.direct.sjc04.cloud-object-storage.appdomain.cloud'}},\n",
       "  'mil01': {'public': {'mil01': 's3.mil01.cloud-object-storage.appdomain.cloud'},\n",
       "   'private': {'mil01': 's3.private.mil01.cloud-object-storage.appdomain.cloud'},\n",
       "   'direct': {'mil01': 's3.direct.mil01.cloud-object-storage.appdomain.cloud'}},\n",
       "  'par01': {'public': {'par01': 's3.par01.cloud-object-storage.appdomain.cloud'},\n",
       "   'private': {'par01': 's3.private.par01.cloud-object-storage.appdomain.cloud'},\n",
       "   'direct': {'par01': 's3.direct.par01.cloud-object-storage.appdomain.cloud'}},\n",
       "  'sng01': {'public': {'sng01': 's3.sng01.cloud-object-storage.appdomain.cloud'},\n",
       "   'private': {'sng01': 's3.private.sng01.cloud-object-storage.appdomain.cloud'},\n",
       "   'direct': {'sng01': 's3.direct.sng01.cloud-object-storage.appdomain.cloud'}}}}"
      ]
     },
     "execution_count": 8,
     "metadata": {},
     "output_type": "execute_result"
    }
   ],
   "source": [
    "cosaccess.list_cos_endpoints()"
   ]
  },
  {
   "cell_type": "markdown",
   "metadata": {},
   "source": [
    "### Author\n",
    "**Torsten Steinbach**, Torsten is IBM's CTO for Big Data in Cloud."
   ]
  }
 ],
 "metadata": {
  "kernelspec": {
   "display_name": "Python 3 (ipykernel)",
   "language": "python",
   "name": "python3"
  },
  "language_info": {
   "codemirror_mode": {
    "name": "ipython",
    "version": 3
   },
   "file_extension": ".py",
   "mimetype": "text/x-python",
   "name": "python",
   "nbconvert_exporter": "python",
   "pygments_lexer": "ipython3",
   "version": "3.11.5"
  }
 },
 "nbformat": 4,
 "nbformat_minor": 4
}
